{
 "cells": [
  {
   "cell_type": "code",
   "execution_count": 2,
   "id": "79be0d75",
   "metadata": {},
   "outputs": [],
   "source": [
    "# hourly data for potential uses.\n",
    "\n",
    "import yfinance as yf\n",
    "\n",
    "# gme = yf.Ticker(\"GME\")\n",
    "# gme.history(period=\"5mo\", interval=\"1h\")"
   ]
  },
  {
   "cell_type": "code",
   "execution_count": 6,
   "id": "4a7e2e28",
   "metadata": {},
   "outputs": [],
   "source": [
    "# PLEASE CHANGE THE BELOW VARIABLES to train on different dataset. \n",
    "stock_data_input = 'mvis_stock_prices.csv'\n",
    "ticker = 'MVIS'\n",
    "reddit_posts_input = 'wallstreetbets_data.json'\n"
   ]
  },
  {
   "cell_type": "code",
   "execution_count": 9,
   "id": "582dd0cb",
   "metadata": {
    "scrolled": true
   },
   "outputs": [
    {
     "name": "stdout",
     "output_type": "stream",
     "text": [
      "OrderedDict([('101', -2.18), ('1231', -2.18), ('104', -3.16), ('105', 5.95), ('106', -5.25), ('107', 13.0), ('108', -0.17), ('111', -0.85), ('112', -4.27), ('113', 16.96), ('114', 0.76), ('115', 0.15), ('119', 6.66), ('120', -2.55), ('121', -1.16), ('122', -0.44), ('125', 7.25), ('126', 12.28), ('127', -8.72), ('128', -2.56), ('129', -1.8), ('201', 3.66), ('202', 3.53), ('203', 21.36), ('204', 11.56), ('205', 11.71), ('208', 27.56), ('209', 1.22), ('210', -6.04), ('211', 30.79), ('212', 0.11), ('216', 29.41), ('217', -16.74), ('218', -8.66), ('219', 13.64), ('222', -11.85), ('223', -10.4), ('224', 10.93), ('225', -9.91), ('226', -8.1), ('301', 18.29), ('302', -3.64), ('303', -9.38), ('304', -13.74), ('305', -3.25), ('308', -8.19), ('309', 19.63), ('310', 1.92), ('311', 3.34), ('312', 17.8), ('315', 2.06), ('316', -5.61), ('317', 3.62), ('318', -8.6), ('319', 8.85), ('322', 3.57), ('323', -11.96), ('324', -16.56), ('325', 6.14), ('326', -4.0), ('329', -9.81), ('330', 1.48), ('331', 50.69), ('401', -16.23), ('405', 0.97), ('406', -2.36), ('407', -4.7), ('408', -3.08), ('409', 0.49), ('412', -9.14), ('413', -0.08), ('414', -4.42), ('415', -8.02), ('416', -2.82), ('419', -4.81), ('420', -1.05), ('421', 20.31), ('422', 5.12), ('423', 36.76), ('426', 47.13), ('427', -23.75), ('428', 4.12), ('429', -14.24), ('430', -15.28)])\n"
     ]
    }
   ],
   "source": [
    "# computer percentage change of stock price.\n",
    "\n",
    "import pandas as pd\n",
    "import numpy as np\n",
    "from collections import OrderedDict\n",
    "\n",
    "df = pd.read_csv(stock_data_input)\n",
    "\n",
    "# WARNING: if you're testing on different stock prices, please re-calculate the shift on Dec 31. \n",
    "price_changes = [-2.18]\n",
    "\n",
    "# price change = (cur - prev) * 100 / prev\n",
    "prev = df['Adj Close'][0]\n",
    "for cur in df['Adj Close'][1:]:\n",
    "    change = round((cur - prev) * 100 / prev, 2)\n",
    "    prev = cur\n",
    "    price_changes.append(change)\n",
    "\n",
    "df['change'] = price_changes\n",
    "\n",
    "change_dict = OrderedDict()\n",
    "\n",
    "change_dict['101'] = -2.18\n",
    "\n",
    "for index, row in df.iterrows():\n",
    "    dates = row['Date'].split('-')\n",
    "    month = int(dates[1])\n",
    "    day = int(dates[2])\n",
    "    date_formatted = str(month)\n",
    "    date_formatted += str(day).zfill(2)\n",
    "    if date_formatted not in change_dict:\n",
    "        change_dict[date_formatted] = row[-1]\n",
    "\n",
    "print(change_dict)\n"
   ]
  },
  {
   "cell_type": "code",
   "execution_count": 11,
   "id": "52168c97",
   "metadata": {},
   "outputs": [
    {
     "name": "stdout",
     "output_type": "stream",
     "text": [
      "OrderedDict([('101', -2.18), ('104', -3.16), ('105', 5.95), ('106', -5.25), ('107', 13.0), ('108', -0.17), ('111', -0.85), ('112', -4.27), ('113', 16.96), ('114', 0.76), ('115', 0.15), ('119', 6.66), ('120', -2.55), ('121', -1.16), ('122', -0.44), ('125', 7.25), ('126', 12.28), ('127', -8.72), ('128', -2.56), ('129', -1.8), ('201', 3.66), ('202', 3.53), ('203', 21.36), ('204', 11.56), ('205', 11.71), ('208', 27.56), ('209', 1.22), ('210', -6.04), ('211', 30.79), ('212', 0.11), ('216', 29.41), ('217', -16.74), ('218', -8.66), ('219', 13.64), ('222', -11.85), ('223', -10.4), ('224', 10.93), ('225', -9.91), ('226', -8.1), ('301', 18.29), ('302', -3.64), ('303', -9.38), ('304', -13.74), ('305', -3.25), ('308', -8.19), ('309', 19.63), ('310', 1.92), ('311', 3.34), ('312', 17.8), ('315', 2.06), ('316', -5.61), ('317', 3.62), ('318', -8.6), ('319', 8.85), ('322', 3.57), ('323', -11.96), ('324', -16.56), ('325', 6.14), ('326', -4.0), ('329', -9.81), ('330', 1.48), ('331', 50.69), ('401', -16.23), ('405', 0.97), ('406', -2.36), ('407', -4.7), ('408', -3.08), ('409', 0.49), ('412', -9.14), ('413', -0.08), ('414', -4.42), ('415', -8.02), ('416', -2.82), ('419', -4.81), ('420', -1.05), ('421', 20.31), ('422', 5.12), ('423', 36.76), ('426', 47.13), ('427', -23.75), ('428', 4.12), ('429', -14.24), ('430', -15.28), ('102', -2.18), ('103', -2.18), ('109', -0.17), ('110', -0.17), ('116', 0.15), ('117', 0.15), ('118', 0.15), ('123', -0.44), ('124', -0.44), ('130', -1.8), ('131', -1.8), ('206', 11.71), ('207', 11.71), ('213', 0.11), ('214', 0.11), ('215', 0.11), ('220', 13.64), ('221', 13.64), ('227', -8.1), ('228', -8.1), ('306', -3.25), ('307', -3.25), ('313', 17.8), ('314', 17.8), ('320', 8.85), ('321', 8.85), ('327', -4.0), ('328', -4.0), ('402', -16.23), ('403', -16.23), ('404', -16.23), ('410', 0.49), ('411', 0.49), ('417', -2.82), ('418', -2.82), ('424', 36.76), ('425', 36.76)])\n"
     ]
    }
   ],
   "source": [
    "# fill in the change percentage for non-trading days. \n",
    "\n",
    "month_dict = { '1':31, '2':28, '3':31, '4':30 }\n",
    "\n",
    "for k, v in month_dict.items():\n",
    "    for day in range(1, v + 1):\n",
    "        date = int(k) * 100 + day\n",
    "        cur_date = str(date)\n",
    "        count = 31\n",
    "        while str(date) not in change_dict and count > 0:\n",
    "            date -= 1\n",
    "            count -= 1\n",
    "        if str(cur_date) not in change_dict:\n",
    "            change_dict[cur_date] = change_dict[str(date)]\n",
    "\n",
    "change_dict.pop('1231')\n",
    "\n",
    "print(change_dict)"
   ]
  },
  {
   "cell_type": "code",
   "execution_count": 12,
   "id": "516adb79",
   "metadata": {},
   "outputs": [
    {
     "data": {
      "text/html": [
       "<div>\n",
       "<style scoped>\n",
       "    .dataframe tbody tr th:only-of-type {\n",
       "        vertical-align: middle;\n",
       "    }\n",
       "\n",
       "    .dataframe tbody tr th {\n",
       "        vertical-align: top;\n",
       "    }\n",
       "\n",
       "    .dataframe thead th {\n",
       "        text-align: right;\n",
       "    }\n",
       "</style>\n",
       "<table border=\"1\" class=\"dataframe\">\n",
       "  <thead>\n",
       "    <tr style=\"text-align: right;\">\n",
       "      <th></th>\n",
       "      <th>date</th>\n",
       "      <th>sentiment</th>\n",
       "      <th>upvote_ratio</th>\n",
       "      <th>total_awards_received</th>\n",
       "      <th>score</th>\n",
       "      <th>num_comments</th>\n",
       "      <th>change_pct</th>\n",
       "      <th>change</th>\n",
       "    </tr>\n",
       "  </thead>\n",
       "  <tbody>\n",
       "    <tr>\n",
       "      <th>0</th>\n",
       "      <td>112</td>\n",
       "      <td>1.0</td>\n",
       "      <td>0.50</td>\n",
       "      <td>0.0</td>\n",
       "      <td>0.0</td>\n",
       "      <td>1.0</td>\n",
       "      <td>-4.27</td>\n",
       "      <td>0</td>\n",
       "    </tr>\n",
       "    <tr>\n",
       "      <th>1</th>\n",
       "      <td>114</td>\n",
       "      <td>1.0</td>\n",
       "      <td>1.00</td>\n",
       "      <td>0.0</td>\n",
       "      <td>1.0</td>\n",
       "      <td>0.0</td>\n",
       "      <td>0.76</td>\n",
       "      <td>1</td>\n",
       "    </tr>\n",
       "    <tr>\n",
       "      <th>2</th>\n",
       "      <td>114</td>\n",
       "      <td>0.0</td>\n",
       "      <td>1.00</td>\n",
       "      <td>0.0</td>\n",
       "      <td>1.0</td>\n",
       "      <td>0.0</td>\n",
       "      <td>0.76</td>\n",
       "      <td>1</td>\n",
       "    </tr>\n",
       "    <tr>\n",
       "      <th>3</th>\n",
       "      <td>114</td>\n",
       "      <td>0.0</td>\n",
       "      <td>1.00</td>\n",
       "      <td>0.0</td>\n",
       "      <td>1.0</td>\n",
       "      <td>0.0</td>\n",
       "      <td>0.76</td>\n",
       "      <td>1</td>\n",
       "    </tr>\n",
       "    <tr>\n",
       "      <th>4</th>\n",
       "      <td>115</td>\n",
       "      <td>-1.0</td>\n",
       "      <td>0.33</td>\n",
       "      <td>0.0</td>\n",
       "      <td>0.0</td>\n",
       "      <td>1.0</td>\n",
       "      <td>0.15</td>\n",
       "      <td>1</td>\n",
       "    </tr>\n",
       "    <tr>\n",
       "      <th>...</th>\n",
       "      <td>...</td>\n",
       "      <td>...</td>\n",
       "      <td>...</td>\n",
       "      <td>...</td>\n",
       "      <td>...</td>\n",
       "      <td>...</td>\n",
       "      <td>...</td>\n",
       "      <td>...</td>\n",
       "    </tr>\n",
       "    <tr>\n",
       "      <th>1649</th>\n",
       "      <td>430</td>\n",
       "      <td>-1.0</td>\n",
       "      <td>1.00</td>\n",
       "      <td>0.0</td>\n",
       "      <td>1.0</td>\n",
       "      <td>1.0</td>\n",
       "      <td>-15.28</td>\n",
       "      <td>0</td>\n",
       "    </tr>\n",
       "    <tr>\n",
       "      <th>1650</th>\n",
       "      <td>430</td>\n",
       "      <td>0.0</td>\n",
       "      <td>1.00</td>\n",
       "      <td>0.0</td>\n",
       "      <td>1.0</td>\n",
       "      <td>0.0</td>\n",
       "      <td>-15.28</td>\n",
       "      <td>0</td>\n",
       "    </tr>\n",
       "    <tr>\n",
       "      <th>1651</th>\n",
       "      <td>430</td>\n",
       "      <td>2.0</td>\n",
       "      <td>1.00</td>\n",
       "      <td>0.0</td>\n",
       "      <td>1.0</td>\n",
       "      <td>0.0</td>\n",
       "      <td>-15.28</td>\n",
       "      <td>0</td>\n",
       "    </tr>\n",
       "    <tr>\n",
       "      <th>1652</th>\n",
       "      <td>430</td>\n",
       "      <td>1.0</td>\n",
       "      <td>1.00</td>\n",
       "      <td>0.0</td>\n",
       "      <td>1.0</td>\n",
       "      <td>0.0</td>\n",
       "      <td>-15.28</td>\n",
       "      <td>0</td>\n",
       "    </tr>\n",
       "    <tr>\n",
       "      <th>1653</th>\n",
       "      <td>430</td>\n",
       "      <td>0.0</td>\n",
       "      <td>1.00</td>\n",
       "      <td>0.0</td>\n",
       "      <td>1.0</td>\n",
       "      <td>0.0</td>\n",
       "      <td>-15.28</td>\n",
       "      <td>0</td>\n",
       "    </tr>\n",
       "  </tbody>\n",
       "</table>\n",
       "<p>1654 rows × 8 columns</p>\n",
       "</div>"
      ],
      "text/plain": [
       "      date  sentiment  upvote_ratio  total_awards_received  score  \\\n",
       "0      112        1.0          0.50                    0.0    0.0   \n",
       "1      114        1.0          1.00                    0.0    1.0   \n",
       "2      114        0.0          1.00                    0.0    1.0   \n",
       "3      114        0.0          1.00                    0.0    1.0   \n",
       "4      115       -1.0          0.33                    0.0    0.0   \n",
       "...    ...        ...           ...                    ...    ...   \n",
       "1649   430       -1.0          1.00                    0.0    1.0   \n",
       "1650   430        0.0          1.00                    0.0    1.0   \n",
       "1651   430        2.0          1.00                    0.0    1.0   \n",
       "1652   430        1.0          1.00                    0.0    1.0   \n",
       "1653   430        0.0          1.00                    0.0    1.0   \n",
       "\n",
       "      num_comments  change_pct  change  \n",
       "0              1.0       -4.27       0  \n",
       "1              0.0        0.76       1  \n",
       "2              0.0        0.76       1  \n",
       "3              0.0        0.76       1  \n",
       "4              1.0        0.15       1  \n",
       "...            ...         ...     ...  \n",
       "1649           1.0      -15.28       0  \n",
       "1650           0.0      -15.28       0  \n",
       "1651           0.0      -15.28       0  \n",
       "1652           0.0      -15.28       0  \n",
       "1653           0.0      -15.28       0  \n",
       "\n",
       "[1654 rows x 8 columns]"
      ]
     },
     "execution_count": 12,
     "metadata": {},
     "output_type": "execute_result"
    }
   ],
   "source": [
    "# complete the data. Using the percentage obtained above as label\n",
    "\n",
    "import json\n",
    "from os import walk\n",
    "import collections\n",
    "from collections import OrderedDict\n",
    "\n",
    "data = OrderedDict({'date':[], 'sentiment':[], 'upvote_ratio':[], 'total_awards_received':[], 'score':[], 'num_comments':[], 'change_pct':[], 'change':[]})\n",
    "\n",
    "def processData(filename, ticker):\n",
    "    name = \"final_data/data/\"+filename\n",
    "    file = json.load(open(name))\n",
    "    for date, value in file.items():\n",
    "        if date == '501':\n",
    "            continue\n",
    "        for stock, reddits in value.items():\n",
    "            # print(\"sentiment, upvote_ratio, total_awards_received, score, num_comments, link_flair_text\")\n",
    "            if stock != ticker:\n",
    "                continue\n",
    "            for post in reddits:\n",
    "                # print(post)\n",
    "                if \"Loss\" in post[-1]:\n",
    "                    post[0] -= 1\n",
    "                elif \"Gain\" in post[-1]:\n",
    "                    post[0] += 1\n",
    "                data['date'].append(int(date))\n",
    "                data['sentiment'].append(float(post[0]))\n",
    "                data['upvote_ratio'].append(float(post[1]))\n",
    "                data['total_awards_received'].append(float(post[2]))\n",
    "                data['score'].append(float(post[3]))\n",
    "                data['num_comments'].append(float(post[4]))\n",
    "#                 if date in change_dict:\n",
    "#                     print(\"date is: \" + date + \", pct is \" + change_dict[date])\n",
    "#                     data['change_pct'].append(change_dict[date])\n",
    "#                 else:\n",
    "#                     data['change_pct'].append(0)\n",
    "                data['change_pct'].append(float(change_dict[date]))\n",
    "                if change_dict[date] >= 0:\n",
    "                    data['change'].append(int(1))\n",
    "                else:\n",
    "                    data['change'].append(int(0))\n",
    "\n",
    "# change the stock ticker and input file name to load different data. \n",
    "processData(reddit_posts_input, ticker)\n",
    "\n",
    "posts_data = pd.DataFrame(data)\n",
    "\n",
    "posts_data"
   ]
  },
  {
   "cell_type": "code",
   "execution_count": 13,
   "id": "c512b958",
   "metadata": {},
   "outputs": [
    {
     "name": "stdout",
     "output_type": "stream",
     "text": [
      "(1654, 8)\n"
     ]
    },
    {
     "data": {
      "image/png": "[encoded data removed]",
      "text/plain": [
       "<Figure size 432x288 with 1 Axes>"
      ]
     },
     "metadata": {},
     "output_type": "display_data"
    },
    {
     "data": {
      "text/plain": [
       "<Figure size 432x288 with 0 Axes>"
      ]
     },
     "metadata": {},
     "output_type": "display_data"
    }
   ],
   "source": [
    "# exploring the data and creating model. Using a simple log reg since we have a label here. \n",
    "\n",
    "import pandas as pd\n",
    "import numpy as np\n",
    "from sklearn import preprocessing\n",
    "import matplotlib.pyplot as plt \n",
    "plt.rc(\"font\", size=14)\n",
    "from sklearn.linear_model import LogisticRegression\n",
    "from sklearn.model_selection import train_test_split\n",
    "import seaborn as sns\n",
    "sns.set(style=\"white\")\n",
    "sns.set(style=\"whitegrid\", color_codes=True)\n",
    "\n",
    "posts_data.dropna()\n",
    "\n",
    "print(posts_data.shape)\n",
    "\n",
    "# exploring data\n",
    "posts_data.value_counts()\n",
    "sns.countplot(x='change', data=posts_data, palette='hls')\n",
    "plt.show()\n",
    "plt.savefig('count_plot')\n",
    "\n"
   ]
  },
  {
   "cell_type": "code",
   "execution_count": 14,
   "id": "1c4a834e",
   "metadata": {},
   "outputs": [
    {
     "name": "stdout",
     "output_type": "stream",
     "text": [
      "percentage of posts when stock price decrease is 37.48488512696493\n",
      "percentage of posts when stock price increase is 62.515114873035074\n"
     ]
    }
   ],
   "source": [
    "count_decrease = len(posts_data[posts_data['change']==0])\n",
    "count_increase = len(posts_data[posts_data['change']==1])\n",
    "pct_of_decrease = count_decrease/(count_decrease+count_increase)\n",
    "print(\"percentage of posts when stock price decrease is\", pct_of_decrease*100)\n",
    "pct_of_increase = count_increase/(count_decrease+count_increase)\n",
    "print(\"percentage of posts when stock price increase is\", pct_of_increase*100)"
   ]
  },
  {
   "cell_type": "code",
   "execution_count": 15,
   "id": "0d954896",
   "metadata": {},
   "outputs": [
    {
     "name": "stdout",
     "output_type": "stream",
     "text": [
      "Optimization terminated successfully.\n",
      "         Current function value: 0.659577\n",
      "         Iterations 6\n",
      "                         Results: Logit\n",
      "================================================================\n",
      "Model:              Logit            Pseudo R-squared: 0.003    \n",
      "Dependent Variable: change           AIC:              2189.8792\n",
      "Date:               2021-05-05 13:55 BIC:              2211.5230\n",
      "No. Observations:   1654             Log-Likelihood:   -1090.9  \n",
      "Df Model:           3                LL-Null:          -1094.1  \n",
      "Df Residuals:       1650             LLR p-value:      0.097189 \n",
      "Converged:          1.0000           Scale:            1.0000   \n",
      "No. Iterations:     6.0000                                      \n",
      "-----------------------------------------------------------------\n",
      "               Coef.   Std.Err.     z     P>|z|    [0.025  0.975]\n",
      "-----------------------------------------------------------------\n",
      "sentiment      0.0983    0.0302   3.2503  0.0012   0.0390  0.1576\n",
      "score          0.0004    0.0003   1.2506  0.2111  -0.0002  0.0010\n",
      "upvote_ratio   0.4258    0.0612   6.9541  0.0000   0.3058  0.5458\n",
      "num_comments  -0.0014    0.0014  -0.9844  0.3249  -0.0041  0.0014\n",
      "================================================================\n",
      "\n",
      "Accuracy of logistic regression classifier on test set: 0.59\n",
      "[[  1 202]\n",
      " [  1 293]]\n",
      "              precision    recall  f1-score   support\n",
      "\n",
      "           0       0.50      0.00      0.01       203\n",
      "           1       0.59      1.00      0.74       294\n",
      "\n",
      "    accuracy                           0.59       497\n",
      "   macro avg       0.55      0.50      0.38       497\n",
      "weighted avg       0.55      0.59      0.44       497\n",
      "\n"
     ]
    }
   ],
   "source": [
    "posts_data.columns.values\n",
    "\n",
    "X = posts_data.loc[:, posts_data.columns != 'change']\n",
    "y = posts_data.loc[:, posts_data.columns == 'change']\n",
    "\n",
    "# not oversampling and the model\n",
    "# got LinAlgError: Singular matrix error, so attempt to drop some features and test\n",
    "cols = ['sentiment', 'score', 'upvote_ratio', 'num_comments']\n",
    "X=X[cols]\n",
    "y=y['change']\n",
    "import statsmodels.api as sm\n",
    "logit_model=sm.Logit(y,X)\n",
    "result=logit_model.fit()\n",
    "print(result.summary2())\n",
    "\n",
    "cols = ['score', 'upvote_ratio']\n",
    "X_train, X_test, y_train, y_test = train_test_split(X, y, test_size=0.3, random_state=0)\n",
    "logreg = LogisticRegression()\n",
    "logreg.fit(X_train, y_train)\n",
    "\n",
    "y_pred = logreg.predict(X_test)\n",
    "print('Accuracy of logistic regression classifier on test set: {:.2f}'.format(logreg.score(X_test, y_test)))\n",
    "\n",
    "from sklearn.metrics import confusion_matrix\n",
    "confusion_matrix = confusion_matrix(y_test, y_pred)\n",
    "print(confusion_matrix)\n",
    "\n",
    "from sklearn.metrics import classification_report\n",
    "print(classification_report(y_test, y_pred))"
   ]
  },
  {
   "cell_type": "code",
   "execution_count": 16,
   "id": "1a71b49c",
   "metadata": {},
   "outputs": [
    {
     "name": "stdout",
     "output_type": "stream",
     "text": [
      "length of oversampled data is  1480\n",
      "Number of posts when stock prices decreases in oversampled data 740\n",
      "Number of posts when stock prices increases 740\n",
      "Proportion of posts when stock prices decreases in oversampled data is  0.5\n",
      "Proportion of posts when stock prices increases in oversampled data is  0.5\n"
     ]
    }
   ],
   "source": [
    "# oversampling. \n",
    "\n",
    "from imblearn.over_sampling import SMOTE\n",
    "\n",
    "oversampling = SMOTE(random_state=0)\n",
    "X_train, X_test, y_train, y_test = train_test_split(X, y, test_size=0.3, random_state=0)\n",
    "columns = X_train.columns\n",
    "os_data_X,os_data_y=oversampling.fit_resample(X_train, y_train)\n",
    "os_data_X = pd.DataFrame(data=os_data_X,columns=columns )\n",
    "os_data_y= pd.DataFrame(data=os_data_y,columns=['change'])\n",
    "# we can Check the numbers of our data\n",
    "print(\"length of oversampled data is \",len(os_data_X))\n",
    "print(\"Number of posts when stock prices decreases in oversampled data\",len(os_data_y[os_data_y['change']==0]))\n",
    "print(\"Number of posts when stock prices increases\",len(os_data_y[os_data_y['change']==1]))\n",
    "print(\"Proportion of posts when stock prices decreases in oversampled data is \",len(os_data_y[os_data_y['change']==0])/len(os_data_X))\n",
    "print(\"Proportion of posts when stock prices increases in oversampled data is \",len(os_data_y[os_data_y['change']==1])/len(os_data_X))"
   ]
  },
  {
   "cell_type": "code",
   "execution_count": 32,
   "id": "b6068e7b",
   "metadata": {},
   "outputs": [
    {
     "name": "stdout",
     "output_type": "stream",
     "text": [
      "imblearn:  0.8.0\n",
      "Linux-4.19.104-microsoft-standard-x86_64-with-glibc2.28\n",
      "Python 3.9.0 (default, Oct  6 2020, 19:10:42) \n",
      "[GCC 8.3.0]\n",
      "NumPy 1.20.2\n",
      "SciPy 1.6.3\n",
      "Scikit-Learn 0.24.2\n"
     ]
    }
   ],
   "source": [
    "# env check utility, ignore if not needed. \n",
    "\n",
    "import imblearn; print(\"imblearn: \", imblearn.__version__)\n",
    "import platform; print(platform.platform())\n",
    "import sys; print(\"Python\", sys.version)\n",
    "import numpy; print(\"NumPy\", numpy.__version__)\n",
    "import scipy; print(\"SciPy\", scipy.__version__)\n",
    "import sklearn; print(\"Scikit-Learn\", sklearn.__version__)"
   ]
  },
  {
   "cell_type": "code",
   "execution_count": 17,
   "id": "979f0aef",
   "metadata": {},
   "outputs": [
    {
     "name": "stdout",
     "output_type": "stream",
     "text": [
      "[ True  True  True  True]\n",
      "[1 1 1 1]\n"
     ]
    },
    {
     "name": "stderr",
     "output_type": "stream",
     "text": [
      "/home/yinuo/.local/lib/python3.9/site-packages/sklearn/utils/validation.py:70: FutureWarning: Pass n_features_to_select=20 as keyword args. From version 1.0 (renaming of 0.25) passing these as positional arguments will result in an error\n",
      "  warnings.warn(f\"Pass {args_msg} as keyword args. From version \"\n"
     ]
    }
   ],
   "source": [
    "# recursive feature elimination. This is optional, as we have a rather small set of features and we believe all of them are important. \n",
    "\n",
    "data_final_vars=posts_data.columns.values.tolist()\n",
    "y=['change']\n",
    "X=[i for i in data_final_vars if i not in y]\n",
    "from sklearn.feature_selection import RFE\n",
    "from sklearn.linear_model import LogisticRegression\n",
    "logreg = LogisticRegression()\n",
    "rfe = RFE(logreg, 20)\n",
    "rfe = rfe.fit(os_data_X, os_data_y.values.ravel())\n",
    "print(rfe.support_)\n",
    "print(rfe.ranking_)"
   ]
  },
  {
   "cell_type": "code",
   "execution_count": 18,
   "id": "32be69f6",
   "metadata": {},
   "outputs": [
    {
     "name": "stdout",
     "output_type": "stream",
     "text": [
      "Optimization terminated successfully.\n",
      "         Current function value: 0.688273\n",
      "         Iterations 4\n",
      "                         Results: Logit\n",
      "================================================================\n",
      "Model:              Logit            Pseudo R-squared: 0.007    \n",
      "Dependent Variable: change           AIC:              2045.2879\n",
      "Date:               2021-05-05 13:56 BIC:              2066.4871\n",
      "No. Observations:   1480             Log-Likelihood:   -1018.6  \n",
      "Df Model:           3                LL-Null:          -1025.9  \n",
      "Df Residuals:       1476             LLR p-value:      0.0023771\n",
      "Converged:          1.0000           Scale:            1.0000   \n",
      "No. Iterations:     4.0000                                      \n",
      "-----------------------------------------------------------------\n",
      "               Coef.   Std.Err.     z     P>|z|    [0.025  0.975]\n",
      "-----------------------------------------------------------------\n",
      "sentiment      0.1046    0.0291   3.5912  0.0003   0.0475  0.1617\n",
      "score          0.0004    0.0003   1.4087  0.1589  -0.0002  0.0009\n",
      "upvote_ratio  -0.0994    0.0628  -1.5822  0.1136  -0.2226  0.0237\n",
      "num_comments  -0.0026    0.0017  -1.5468  0.1219  -0.0060  0.0007\n",
      "================================================================\n",
      "\n"
     ]
    }
   ],
   "source": [
    "# got LinAlgError: Singular matrix error, so attempt to drop some features and test\n",
    "cols = ['sentiment', 'score', 'upvote_ratio', 'num_comments']\n",
    "X=os_data_X[cols]\n",
    "y=os_data_y['change']\n",
    "import statsmodels.api as sm\n",
    "logit_model=sm.Logit(y,X)\n",
    "result=logit_model.fit()\n",
    "print(result.summary2())"
   ]
  },
  {
   "cell_type": "code",
   "execution_count": 19,
   "id": "715485bc",
   "metadata": {},
   "outputs": [
    {
     "name": "stdout",
     "output_type": "stream",
     "text": [
      "Optimization terminated successfully.\n",
      "         Current function value: 0.690087\n",
      "         Iterations 4\n",
      "                         Results: Logit\n",
      "================================================================\n",
      "Model:              Logit            Pseudo R-squared: 0.004    \n",
      "Dependent Variable: change           AIC:              2044.6561\n",
      "Date:               2021-05-05 13:56 BIC:              2049.9559\n",
      "No. Observations:   1480             Log-Likelihood:   -1021.3  \n",
      "Df Model:           0                LL-Null:          -1025.9  \n",
      "Df Residuals:       1479             LLR p-value:      nan      \n",
      "Converged:          1.0000           Scale:            1.0000   \n",
      "No. Iterations:     4.0000                                      \n",
      "------------------------------------------------------------------\n",
      "             Coef.    Std.Err.     z      P>|z|    [0.025   0.975]\n",
      "------------------------------------------------------------------\n",
      "sentiment    0.0724     0.0247   2.9340   0.0033   0.0240   0.1208\n",
      "================================================================\n",
      "\n"
     ]
    }
   ],
   "source": [
    "# the p-value for the variable score is < 0.05, so we will only keep this variable\n",
    "cols = ['sentiment']\n",
    "X=os_data_X[cols]\n",
    "y=os_data_y['change']\n",
    "logit_model=sm.Logit(y,X)\n",
    "result=logit_model.fit()\n",
    "print(result.summary2())"
   ]
  },
  {
   "cell_type": "code",
   "execution_count": 20,
   "id": "0f0fa42e",
   "metadata": {},
   "outputs": [
    {
     "name": "stdout",
     "output_type": "stream",
     "text": [
      "Accuracy of logistic regression classifier on test set: 0.54\n",
      "[[165  56]\n",
      " [149  74]]\n",
      "              precision    recall  f1-score   support\n",
      "\n",
      "           0       0.53      0.75      0.62       221\n",
      "           1       0.57      0.33      0.42       223\n",
      "\n",
      "    accuracy                           0.54       444\n",
      "   macro avg       0.55      0.54      0.52       444\n",
      "weighted avg       0.55      0.54      0.52       444\n",
      "\n"
     ]
    }
   ],
   "source": [
    "X_train, X_test, y_train, y_test = train_test_split(X, y, test_size=0.3, random_state=0)\n",
    "logreg = LogisticRegression()\n",
    "logreg.fit(X_train, y_train)\n",
    "\n",
    "y_pred = logreg.predict(X_test)\n",
    "print('Accuracy of logistic regression classifier on test set: {:.2f}'.format(logreg.score(X_test, y_test)))\n",
    "\n",
    "from sklearn.metrics import confusion_matrix\n",
    "confusion_matrix = confusion_matrix(y_test, y_pred)\n",
    "print(confusion_matrix)\n",
    "\n",
    "from sklearn.metrics import classification_report\n",
    "print(classification_report(y_test, y_pred))\n",
    "\n",
    "# it doesn't seem like we can gain much insight from this data.  "
   ]
  },
  {
   "cell_type": "code",
   "execution_count": null,
   "id": "d13eb9c6",
   "metadata": {},
   "outputs": [],
   "source": []
  }
 ],
 "metadata": {
  "kernelspec": {
   "display_name": "Python 3",
   "language": "python",
   "name": "python3"
  },
  "language_info": {
   "codemirror_mode": {
    "name": "ipython",
    "version": 3
   },
   "file_extension": ".py",
   "mimetype": "text/x-python",
   "name": "python",
   "nbconvert_exporter": "python",
   "pygments_lexer": "ipython3",
   "version": "3.9.0"
  }
 },
 "nbformat": 4,
 "nbformat_minor": 5
}
