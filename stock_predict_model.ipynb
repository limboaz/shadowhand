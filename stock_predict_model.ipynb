{
 "cells": [
  {
   "cell_type": "code",
   "execution_count": 2,
   "id": "79be0d75",
   "metadata": {},
   "outputs": [],
   "source": [
    "# hourly data for potential uses.\n",
    "\n",
    "import yfinance as yf\n",
    "\n",
    "# gme = yf.Ticker(\"GME\")\n",
    "# gme.history(period=\"5mo\", interval=\"1h\")"
   ]
  },
  {
   "cell_type": "code",
   "execution_count": 2,
   "id": "582dd0cb",
   "metadata": {
    "scrolled": true
   },
   "outputs": [
    {
     "name": "stdout",
     "output_type": "stream",
     "text": [
      "OrderedDict([('101', -4.82), ('1231', -2.18), ('104', -8.44), ('105', 0.7), ('106', 5.7), ('107', -1.53), ('108', -2.16), ('111', 12.72), ('112', 0.05), ('113', 57.39), ('114', 27.1), ('115', -11.05), ('119', 10.87), ('120', -0.61), ('121', 9.99), ('122', 51.08), ('125', 18.12), ('126', 92.71), ('127', 134.84), ('128', -44.29), ('129', 67.87), ('201', -30.77), ('202', -60.0), ('203', 2.68), ('204', -42.11), ('205', 19.2), ('208', -5.91), ('209', -16.15), ('210', 1.77), ('211', -0.2), ('212', 2.54), ('216', -5.52), ('217', -7.21), ('218', -11.43), ('219', -0.25), ('222', 13.33), ('223', -2.24), ('224', 103.94), ('225', 18.56), ('226', -6.43), ('301', 18.34), ('302', -1.84), ('303', 5.08), ('304', 6.58), ('305', 4.07), ('308', 41.21), ('309', 26.94), ('310', 7.33), ('311', -1.89), ('312', 1.73), ('315', -16.77), ('316', -5.44), ('317', 0.79), ('318', -3.84), ('319', -0.73), ('322', -2.89), ('323', -6.55), ('324', -33.79), ('325', 52.69), ('326', -1.5), ('329', 0.17), ('330', 7.26), ('331', -2.39), ('401', 0.86), ('405', -2.35), ('406', -1.31), ('407', -3.54), ('408', -4.33), ('409', -6.99), ('412', -10.91), ('413', -0.07), ('414', 18.11), ('415', -6.06), ('416', -1.12), ('419', 6.26), ('420', -3.55), ('421', -0.01), ('422', -4.63), ('423', 0.01), ('426', 11.74), ('427', 5.23), ('428', 0.46), ('429', -1.34), ('430', -1.48)])\n"
     ]
    }
   ],
   "source": [
    "# computer percentage change of stock price.\n",
    "\n",
    "import pandas as pd\n",
    "import numpy as np\n",
    "from collections import OrderedDict\n",
    "\n",
    "df = pd.read_csv('gme_stock_prices.csv')\n",
    "\n",
    "price_changes = [4.81] # Dec 1\n",
    "\n",
    "# price change = (cur - prev) * 100 / prev\n",
    "prev = df['Adj Close'][0]\n",
    "for cur in df['Adj Close'][1:]:\n",
    "    change = round((cur - prev) * 100 / prev, 2)\n",
    "    prev = cur\n",
    "    price_changes.append(change)\n",
    "\n",
    "df['change'] = price_changes\n",
    "\n",
    "df = df.iloc[21:]\n",
    "\n",
    "change_dict = OrderedDict()\n",
    "\n",
    "change_dict['101'] = -4.82\n",
    "\n",
    "for index, row in df.iterrows():\n",
    "    dates = row['Date'].split('-')\n",
    "    month = int(dates[1])\n",
    "    day = int(dates[2])\n",
    "    date_formatted = str(month)\n",
    "    date_formatted += str(day).zfill(2)\n",
    "    if date_formatted not in change_dict:\n",
    "        change_dict[date_formatted] = row[-1]\n",
    "\n",
    "print(change_dict)\n"
   ]
  },
  {
   "cell_type": "code",
   "execution_count": 3,
   "id": "52168c97",
   "metadata": {},
   "outputs": [
    {
     "name": "stdout",
     "output_type": "stream",
     "text": [
      "OrderedDict([('101', -4.82), ('1231', -2.18), ('104', -8.44), ('105', 0.7), ('106', 5.7), ('107', -1.53), ('108', -2.16), ('111', 12.72), ('112', 0.05), ('113', 57.39), ('114', 27.1), ('115', -11.05), ('119', 10.87), ('120', -0.61), ('121', 9.99), ('122', 51.08), ('125', 18.12), ('126', 92.71), ('127', 134.84), ('128', -44.29), ('129', 67.87), ('201', -30.77), ('202', -60.0), ('203', 2.68), ('204', -42.11), ('205', 19.2), ('208', -5.91), ('209', -16.15), ('210', 1.77), ('211', -0.2), ('212', 2.54), ('216', -5.52), ('217', -7.21), ('218', -11.43), ('219', -0.25), ('222', 13.33), ('223', -2.24), ('224', 103.94), ('225', 18.56), ('226', -6.43), ('301', 18.34), ('302', -1.84), ('303', 5.08), ('304', 6.58), ('305', 4.07), ('308', 41.21), ('309', 26.94), ('310', 7.33), ('311', -1.89), ('312', 1.73), ('315', -16.77), ('316', -5.44), ('317', 0.79), ('318', -3.84), ('319', -0.73), ('322', -2.89), ('323', -6.55), ('324', -33.79), ('325', 52.69), ('326', -1.5), ('329', 0.17), ('330', 7.26), ('331', -2.39), ('401', 0.86), ('405', -2.35), ('406', -1.31), ('407', -3.54), ('408', -4.33), ('409', -6.99), ('412', -10.91), ('413', -0.07), ('414', 18.11), ('415', -6.06), ('416', -1.12), ('419', 6.26), ('420', -3.55), ('421', -0.01), ('422', -4.63), ('423', 0.01), ('426', 11.74), ('427', 5.23), ('428', 0.46), ('429', -1.34), ('430', -1.48), ('102', -4.82), ('103', -4.82), ('109', -2.16), ('110', -2.16), ('116', -11.05), ('117', -11.05), ('118', -11.05), ('123', 51.08), ('124', 51.08), ('130', 67.87), ('131', 67.87), ('206', 19.2), ('207', 19.2), ('213', 2.54), ('214', 2.54), ('215', 2.54), ('220', -0.25), ('221', -0.25), ('227', -6.43), ('228', -6.43), ('306', 4.07), ('307', 4.07), ('313', 1.73), ('314', 1.73), ('320', -0.73), ('321', -0.73), ('327', -1.5), ('328', -1.5), ('402', 0.86), ('403', 0.86), ('404', 0.86), ('410', -6.99), ('411', -6.99), ('417', -1.12), ('418', -1.12), ('424', 0.01), ('425', 0.01)])\n"
     ]
    }
   ],
   "source": [
    "# fill in the change percentage for non-trading days. \n",
    "\n",
    "month_dict = { '1':31, '2':28, '3':31, '4':30 }\n",
    "\n",
    "for k, v in month_dict.items():\n",
    "    for day in range(1, v + 1):\n",
    "        date = int(k) * 100 + day\n",
    "        cur_date = str(date)\n",
    "        count = 31\n",
    "        while str(date) not in change_dict and count > 0:\n",
    "            date -= 1\n",
    "            count -= 1\n",
    "        if str(cur_date) not in change_dict:\n",
    "            change_dict[cur_date] = change_dict[str(date)]\n",
    "\n",
    "print(change_dict)"
   ]
  },
  {
   "cell_type": "code",
   "execution_count": 59,
   "id": "516adb79",
   "metadata": {},
   "outputs": [
    {
     "data": {
      "text/html": [
       "<div>\n",
       "<style scoped>\n",
       "    .dataframe tbody tr th:only-of-type {\n",
       "        vertical-align: middle;\n",
       "    }\n",
       "\n",
       "    .dataframe tbody tr th {\n",
       "        vertical-align: top;\n",
       "    }\n",
       "\n",
       "    .dataframe thead th {\n",
       "        text-align: right;\n",
       "    }\n",
       "</style>\n",
       "<table border=\"1\" class=\"dataframe\">\n",
       "  <thead>\n",
       "    <tr style=\"text-align: right;\">\n",
       "      <th></th>\n",
       "      <th>date</th>\n",
       "      <th>sentiment</th>\n",
       "      <th>upvote_ratio</th>\n",
       "      <th>total_awards_received</th>\n",
       "      <th>score</th>\n",
       "      <th>num_comments</th>\n",
       "      <th>change_pct</th>\n",
       "      <th>change</th>\n",
       "    </tr>\n",
       "  </thead>\n",
       "  <tbody>\n",
       "    <tr>\n",
       "      <th>0</th>\n",
       "      <td>1231</td>\n",
       "      <td>0.0</td>\n",
       "      <td>1.00</td>\n",
       "      <td>0.0</td>\n",
       "      <td>1.0</td>\n",
       "      <td>0.0</td>\n",
       "      <td>-2.18</td>\n",
       "      <td>0</td>\n",
       "    </tr>\n",
       "    <tr>\n",
       "      <th>1</th>\n",
       "      <td>1231</td>\n",
       "      <td>0.0</td>\n",
       "      <td>0.93</td>\n",
       "      <td>1.0</td>\n",
       "      <td>80.0</td>\n",
       "      <td>33.0</td>\n",
       "      <td>-2.18</td>\n",
       "      <td>0</td>\n",
       "    </tr>\n",
       "    <tr>\n",
       "      <th>2</th>\n",
       "      <td>1231</td>\n",
       "      <td>2.0</td>\n",
       "      <td>1.00</td>\n",
       "      <td>0.0</td>\n",
       "      <td>1.0</td>\n",
       "      <td>0.0</td>\n",
       "      <td>-2.18</td>\n",
       "      <td>0</td>\n",
       "    </tr>\n",
       "    <tr>\n",
       "      <th>3</th>\n",
       "      <td>1231</td>\n",
       "      <td>8.0</td>\n",
       "      <td>0.82</td>\n",
       "      <td>1.0</td>\n",
       "      <td>57.0</td>\n",
       "      <td>10.0</td>\n",
       "      <td>-2.18</td>\n",
       "      <td>0</td>\n",
       "    </tr>\n",
       "    <tr>\n",
       "      <th>4</th>\n",
       "      <td>1231</td>\n",
       "      <td>3.0</td>\n",
       "      <td>0.90</td>\n",
       "      <td>1.0</td>\n",
       "      <td>75.0</td>\n",
       "      <td>8.0</td>\n",
       "      <td>-2.18</td>\n",
       "      <td>0</td>\n",
       "    </tr>\n",
       "  </tbody>\n",
       "</table>\n",
       "</div>"
      ],
      "text/plain": [
       "   date  sentiment  upvote_ratio  total_awards_received  score  num_comments  \\\n",
       "0  1231        0.0          1.00                    0.0    1.0           0.0   \n",
       "1  1231        0.0          0.93                    1.0   80.0          33.0   \n",
       "2  1231        2.0          1.00                    0.0    1.0           0.0   \n",
       "3  1231        8.0          0.82                    1.0   57.0          10.0   \n",
       "4  1231        3.0          0.90                    1.0   75.0           8.0   \n",
       "\n",
       "   change_pct  change  \n",
       "0       -2.18       0  \n",
       "1       -2.18       0  \n",
       "2       -2.18       0  \n",
       "3       -2.18       0  \n",
       "4       -2.18       0  "
      ]
     },
     "execution_count": 59,
     "metadata": {},
     "output_type": "execute_result"
    }
   ],
   "source": [
    "# complete the data. Using the percentage obtained above as label\n",
    "\n",
    "import json\n",
    "from os import walk\n",
    "import collections\n",
    "from collections import OrderedDict\n",
    "\n",
    "data = OrderedDict({'date':[], 'sentiment':[], 'upvote_ratio':[], 'total_awards_received':[], 'score':[], 'num_comments':[], 'change_pct':[], 'change':[]})\n",
    "\n",
    "def processData(filename, ticker):\n",
    "    name = \"final_data/data/\"+filename\n",
    "    file = json.load(open(name))\n",
    "    for date, value in file.items():\n",
    "        if date == '501':\n",
    "            continue\n",
    "        for stock, reddits in value.items():\n",
    "            # print(\"sentiment, upvote_ratio, total_awards_received, score, num_comments, link_flair_text\")\n",
    "            if stock != ticker:\n",
    "                continue\n",
    "            for post in reddits:\n",
    "                # print(post)\n",
    "                if \"Loss\" in post[-1]:\n",
    "                    post[0] -= 1\n",
    "                elif \"Gain\" in post[-1]:\n",
    "                    post[0] += 1\n",
    "                data['date'].append(int(date))\n",
    "                data['sentiment'].append(float(post[0]))\n",
    "                data['upvote_ratio'].append(float(post[1]))\n",
    "                data['total_awards_received'].append(float(post[2]))\n",
    "                data['score'].append(float(post[3]))\n",
    "                data['num_comments'].append(float(post[4]))\n",
    "#                 if date in change_dict:\n",
    "#                     print(\"date is: \" + date + \", pct is \" + change_dict[date])\n",
    "#                     data['change_pct'].append(change_dict[date])\n",
    "#                 else:\n",
    "#                     data['change_pct'].append(0)\n",
    "                data['change_pct'].append(float(change_dict[date]))\n",
    "                if change_dict[date] >= 0:\n",
    "                    data['change'].append(int(1))\n",
    "                else:\n",
    "                    data['change'].append(int(0))\n",
    "\n",
    "# change the stock ticker and input file name to load different data. \n",
    "processData('wallstreetbets_data.json', \"GME\")\n",
    "\n",
    "posts_data = pd.DataFrame(data)\n",
    "\n",
    "posts_data.head()"
   ]
  },
  {
   "cell_type": "code",
   "execution_count": 60,
   "id": "c512b958",
   "metadata": {},
   "outputs": [
    {
     "name": "stdout",
     "output_type": "stream",
     "text": [
      "(99322, 8)\n"
     ]
    },
    {
     "data": {
      "image/png": "[encoded data removed]",
      "text/plain": [
       "<Figure size 432x288 with 1 Axes>"
      ]
     },
     "metadata": {},
     "output_type": "display_data"
    },
    {
     "data": {
      "text/plain": [
       "<Figure size 432x288 with 0 Axes>"
      ]
     },
     "metadata": {},
     "output_type": "display_data"
    }
   ],
   "source": [
    "# exploring the data and creating model. Using a simple log reg since we have a label here. \n",
    "\n",
    "import pandas as pd\n",
    "import numpy as np\n",
    "from sklearn import preprocessing\n",
    "import matplotlib.pyplot as plt \n",
    "plt.rc(\"font\", size=14)\n",
    "from sklearn.linear_model import LogisticRegression\n",
    "from sklearn.model_selection import train_test_split\n",
    "import seaborn as sns\n",
    "sns.set(style=\"white\")\n",
    "sns.set(style=\"whitegrid\", color_codes=True)\n",
    "\n",
    "posts_data.dropna()\n",
    "\n",
    "print(posts_data.shape)\n",
    "\n",
    "# exploring data\n",
    "posts_data.value_counts()\n",
    "sns.countplot(x='change', data=posts_data, palette='hls')\n",
    "plt.show()\n",
    "plt.savefig('count_plot')\n",
    "\n"
   ]
  },
  {
   "cell_type": "code",
   "execution_count": 61,
   "id": "1c4a834e",
   "metadata": {},
   "outputs": [
    {
     "name": "stdout",
     "output_type": "stream",
     "text": [
      "percentage of stock price decrease is 42.80622621372908\n",
      "percentage of stock price increase is 57.19377378627092\n"
     ]
    }
   ],
   "source": [
    "count_decrease = len(posts_data[posts_data['change']==0])\n",
    "count_increase = len(posts_data[posts_data['change']==1])\n",
    "pct_of_decrease = count_decrease/(count_decrease+count_increase)\n",
    "print(\"percentage of stock price decrease is\", pct_of_decrease*100)\n",
    "pct_of_increase = count_increase/(count_decrease+count_increase)\n",
    "print(\"percentage of stock price increase is\", pct_of_increase*100)"
   ]
  },
  {
   "cell_type": "code",
   "execution_count": 62,
   "id": "b7f84185",
   "metadata": {},
   "outputs": [
    {
     "name": "stdout",
     "output_type": "stream",
     "text": [
      "date                       int64\n",
      "sentiment                float64\n",
      "upvote_ratio             float64\n",
      "total_awards_received    float64\n",
      "score                    float64\n",
      "num_comments             float64\n",
      "change_pct               float64\n",
      "dtype: object\n",
      "change    int64\n",
      "dtype: object\n"
     ]
    }
   ],
   "source": [
    "# data is unbalanced, so go ahead to up-sample the -1's. \n",
    "posts_data.columns.values\n",
    "\n",
    "X = posts_data.loc[:, posts_data.columns != 'change']\n",
    "y = posts_data.loc[:, posts_data.columns == 'change']\n",
    "\n",
    "print(X.dtypes)\n",
    "print(y.dtypes)"
   ]
  },
  {
   "cell_type": "code",
   "execution_count": 63,
   "id": "de37e8fb",
   "metadata": {},
   "outputs": [
    {
     "name": "stdout",
     "output_type": "stream",
     "text": [
      "length of oversampled data is  79396\n",
      "Number of decreases in oversampled data 39698\n",
      "Number of increases 39698\n",
      "Proportion of decreases in oversampled data is  0.5\n",
      "Proportion of increases in oversampled data is  0.5\n"
     ]
    }
   ],
   "source": [
    "from imblearn.over_sampling import SMOTE\n",
    "\n",
    "oversampling = SMOTE(random_state=0)\n",
    "X_train, X_test, y_train, y_test = train_test_split(X, y, test_size=0.3, random_state=0)\n",
    "columns = X_train.columns\n",
    "os_data_X,os_data_y=oversampling.fit_resample(X_train, y_train)\n",
    "os_data_X = pd.DataFrame(data=os_data_X,columns=columns )\n",
    "os_data_y= pd.DataFrame(data=os_data_y,columns=['change'])\n",
    "# we can Check the numbers of our data\n",
    "print(\"length of oversampled data is \",len(os_data_X))\n",
    "print(\"Number of decreases in oversampled data\",len(os_data_y[os_data_y['change']==0]))\n",
    "print(\"Number of increases\",len(os_data_y[os_data_y['change']==1]))\n",
    "print(\"Proportion of decreases in oversampled data is \",len(os_data_y[os_data_y['change']==0])/len(os_data_X))\n",
    "print(\"Proportion of increases in oversampled data is \",len(os_data_y[os_data_y['change']==1])/len(os_data_X))"
   ]
  },
  {
   "cell_type": "code",
   "execution_count": 32,
   "id": "3143793b",
   "metadata": {},
   "outputs": [
    {
     "name": "stdout",
     "output_type": "stream",
     "text": [
      "imblearn:  0.8.0\n",
      "Linux-4.19.104-microsoft-standard-x86_64-with-glibc2.28\n",
      "Python 3.9.0 (default, Oct  6 2020, 19:10:42) \n",
      "[GCC 8.3.0]\n",
      "NumPy 1.20.2\n",
      "SciPy 1.6.3\n",
      "Scikit-Learn 0.24.2\n"
     ]
    }
   ],
   "source": [
    "# env check utility, ignore if not needed. \n",
    "\n",
    "import imblearn; print(\"imblearn: \", imblearn.__version__)\n",
    "import platform; print(platform.platform())\n",
    "import sys; print(\"Python\", sys.version)\n",
    "import numpy; print(\"NumPy\", numpy.__version__)\n",
    "import scipy; print(\"SciPy\", scipy.__version__)\n",
    "import sklearn; print(\"Scikit-Learn\", sklearn.__version__)"
   ]
  },
  {
   "cell_type": "code",
   "execution_count": 45,
   "id": "f7a71bf3",
   "metadata": {},
   "outputs": [
    {
     "name": "stderr",
     "output_type": "stream",
     "text": [
      "/home/yinuo/.local/lib/python3.9/site-packages/sklearn/utils/validation.py:70: FutureWarning: Pass n_features_to_select=20 as keyword args. From version 1.0 (renaming of 0.25) passing these as positional arguments will result in an error\n",
      "  warnings.warn(f\"Pass {args_msg} as keyword args. From version \"\n"
     ]
    },
    {
     "name": "stdout",
     "output_type": "stream",
     "text": [
      "[ True  True  True  True  True  True  True]\n",
      "[1 1 1 1 1 1 1]\n"
     ]
    },
    {
     "name": "stderr",
     "output_type": "stream",
     "text": [
      "/home/yinuo/.local/lib/python3.9/site-packages/sklearn/linear_model/_logistic.py:763: ConvergenceWarning: lbfgs failed to converge (status=1):\n",
      "STOP: TOTAL NO. of ITERATIONS REACHED LIMIT.\n",
      "\n",
      "Increase the number of iterations (max_iter) or scale the data as shown in:\n",
      "    https://scikit-learn.org/stable/modules/preprocessing.html\n",
      "Please also refer to the documentation for alternative solver options:\n",
      "    https://scikit-learn.org/stable/modules/linear_model.html#logistic-regression\n",
      "  n_iter_i = _check_optimize_result(\n"
     ]
    }
   ],
   "source": [
    "# recursive feature elimination. This is optional, as we have a rather small set of features and we believe all of them are important. \n",
    "\n",
    "data_final_vars=posts_data.columns.values.tolist()\n",
    "y=['change']\n",
    "X=[i for i in data_final_vars if i not in y]\n",
    "from sklearn.feature_selection import RFE\n",
    "from sklearn.linear_model import LogisticRegression\n",
    "logreg = LogisticRegression()\n",
    "rfe = RFE(logreg, 20)\n",
    "rfe = rfe.fit(os_data_X, os_data_y.values.ravel())\n",
    "print(rfe.support_)\n",
    "print(rfe.ranking_)"
   ]
  },
  {
   "cell_type": "code",
   "execution_count": 54,
   "id": "ffc26f10",
   "metadata": {},
   "outputs": [
    {
     "name": "stdout",
     "output_type": "stream",
     "text": [
      "Optimization terminated successfully.\n",
      "         Current function value: 0.693100\n",
      "         Iterations 4\n",
      "                          Results: Logit\n",
      "==================================================================\n",
      "Model:              Logit            Pseudo R-squared: 0.000      \n",
      "Dependent Variable: change           AIC:              110066.7424\n",
      "Date:               2021-05-04 20:45 BIC:              110103.8712\n",
      "No. Observations:   79396            Log-Likelihood:   -55029.    \n",
      "Df Model:           3                LL-Null:          -55033.    \n",
      "Df Residuals:       79392            LLR p-value:      0.057952   \n",
      "Converged:          1.0000           Scale:            1.0000     \n",
      "No. Iterations:     4.0000                                        \n",
      "-------------------------------------------------------------------\n",
      "                Coef.   Std.Err.     z     P>|z|    [0.025   0.975]\n",
      "-------------------------------------------------------------------\n",
      "sentiment      -0.0005    0.0028  -0.1856  0.8527  -0.0059   0.0049\n",
      "score          -0.0000    0.0000  -2.3036  0.0212  -0.0000  -0.0000\n",
      "upvote_ratio   -0.0031    0.0087  -0.3505  0.7260  -0.0202   0.0141\n",
      "num_comments   -0.0000    0.0000  -0.3445  0.7305  -0.0000   0.0000\n",
      "==================================================================\n",
      "\n"
     ]
    }
   ],
   "source": [
    "# got LinAlgError: Singular matrix error, so attempt to drop some features and test\n",
    "cols = ['sentiment', 'score', 'upvote_ratio', 'num_comments']\n",
    "X=os_data_X[cols]\n",
    "y=os_data_y['change']\n",
    "import statsmodels.api as sm\n",
    "logit_model=sm.Logit(y,X)\n",
    "result=logit_model.fit()\n",
    "print(result.summary2())"
   ]
  },
  {
   "cell_type": "code",
   "execution_count": 56,
   "id": "5dbe5408",
   "metadata": {},
   "outputs": [
    {
     "name": "stdout",
     "output_type": "stream",
     "text": [
      "Optimization terminated successfully.\n",
      "         Current function value: 0.693102\n",
      "         Iterations 4\n",
      "                          Results: Logit\n",
      "==================================================================\n",
      "Model:              Logit            Pseudo R-squared: 0.000      \n",
      "Dependent Variable: change           AIC:              110062.9870\n",
      "Date:               2021-05-04 20:46 BIC:              110081.5514\n",
      "No. Observations:   79396            Log-Likelihood:   -55029.    \n",
      "Df Model:           1                LL-Null:          -55033.    \n",
      "Df Residuals:       79394            LLR p-value:      0.0071293  \n",
      "Converged:          1.0000           Scale:            1.0000     \n",
      "No. Iterations:     4.0000                                        \n",
      "-------------------------------------------------------------------\n",
      "                Coef.   Std.Err.     z     P>|z|    [0.025   0.975]\n",
      "-------------------------------------------------------------------\n",
      "score          -0.0000    0.0000  -2.5371  0.0112  -0.0000  -0.0000\n",
      "sentiment      -0.0010    0.0024  -0.4157  0.6776  -0.0057   0.0037\n",
      "==================================================================\n",
      "\n"
     ]
    }
   ],
   "source": [
    "# the p-value for the variable score is < 0.05, so we will only keep this variable\n",
    "cols = ['score', 'sentiment']\n",
    "X=os_data_X[cols]\n",
    "y=os_data_y['change']\n",
    "logit_model=sm.Logit(y,X)\n",
    "result=logit_model.fit()\n",
    "print(result.summary2())"
   ]
  },
  {
   "cell_type": "code",
   "execution_count": 58,
   "id": "202e568e",
   "metadata": {},
   "outputs": [
    {
     "name": "stdout",
     "output_type": "stream",
     "text": [
      "Accuracy of logistic regression classifier on test set: 0.50\n",
      "[[11807    38]\n",
      " [11937    37]]\n"
     ]
    }
   ],
   "source": [
    "X_train, X_test, y_train, y_test = train_test_split(X, y, test_size=0.3, random_state=0)\n",
    "logreg = LogisticRegression()\n",
    "logreg.fit(X_train, y_train)\n",
    "\n",
    "y_pred = logreg.predict(X_test)\n",
    "print('Accuracy of logistic regression classifier on test set: {:.2f}'.format(logreg.score(X_test, y_test)))\n",
    "\n",
    "from sklearn.metrics import confusion_matrix\n",
    "confusion_matrix = confusion_matrix(y_test, y_pred)\n",
    "print(confusion_matrix)\n",
    "\n",
    "# it doesn't seem like from Reddit post scores we can tell much. Then we go anothe route to explore the data. "
   ]
  }
 ],
 "metadata": {
  "kernelspec": {
   "display_name": "Python 3",
   "language": "python",
   "name": "python3"
  },
  "language_info": {
   "codemirror_mode": {
    "name": "ipython",
    "version": 3
   },
   "file_extension": ".py",
   "mimetype": "text/x-python",
   "name": "python",
   "nbconvert_exporter": "python",
   "pygments_lexer": "ipython3",
   "version": "3.9.0"
  }
 },
 "nbformat": 4,
 "nbformat_minor": 5
}
