{
 "metadata": {
  "language_info": {
   "codemirror_mode": {
    "name": "ipython",
    "version": 3
   },
   "file_extension": ".py",
   "mimetype": "text/x-python",
   "name": "python",
   "nbconvert_exporter": "python",
   "pygments_lexer": "ipython3",
   "version": "3.8.0"
  },
  "orig_nbformat": 2,
  "kernelspec": {
   "name": "python380jvsc74a57bd0a5954a3b8f3e5d1c2df33ae828229b7e55e9f7c69471bafc680d4091f5a2132d",
   "display_name": "Python 3.8.0 64-bit ('gp': conda)"
  }
 },
 "nbformat": 4,
 "nbformat_minor": 2,
 "cells": [
  {
   "cell_type": "code",
   "execution_count": 2,
   "metadata": {},
   "outputs": [],
   "source": [
    "import pandas as pd\n",
    "import csv\n",
    "import json\n",
    "from os import walk\n"
   ]
  },
  {
   "cell_type": "code",
   "execution_count": 3,
   "metadata": {},
   "outputs": [],
   "source": [
    "def check (body):\n",
    "    none = [\"[deleted]\",\"[removed]\"]\n",
    "    for n in none:\n",
    "        if n in body:\n",
    "            return False\n",
    "    return len(body)!=0"
   ]
  },
  {
   "cell_type": "code",
   "execution_count": 4,
   "metadata": {},
   "outputs": [],
   "source": [
    "def mention(keywords, word):\n",
    "    for keyword in keywords:\n",
    "        if keyword in word.lower():\n",
    "            return True\n",
    "    return False"
   ]
  },
  {
   "cell_type": "code",
   "execution_count": 5,
   "metadata": {},
   "outputs": [],
   "source": [
    "def evaluate(row):\n",
    "    t = []\n",
    "    t.append(sentiment(row[\"title\"], row[\"selftext\"]))\n",
    "    t.append(row[\"upvote_ratio\"])\n",
    "    t.append(row[\"total_awards_received\"])\n",
    "    t.append(row[\"score\"])\n",
    "    t.append(row[\"num_comments\"])\n",
    "    t.append(row[\"link_flair_text\"])\n",
    "    return t"
   ]
  },
  {
   "cell_type": "code",
   "execution_count": 6,
   "metadata": {},
   "outputs": [],
   "source": [
    "def sentiment(title,body):\n",
    "    count = 0\n",
    "    for key, value in senti.items():\n",
    "        if key in body:\n",
    "            count+= value\n",
    "        if key in title:\n",
    "            count+=value\n",
    "    return count"
   ]
  },
  {
   "cell_type": "code",
   "execution_count": 7,
   "metadata": {},
   "outputs": [],
   "source": [
    "n_gram = \"ngrams_only.csv\"\n",
    "val = open(n_gram)\n",
    "val.readline()\n",
    "senti = {}\n",
    "for line in val.readlines():\n",
    "    temp = line.split(\",\")\n",
    "    if not(temp[1] == \"0\" or temp[1] == \"\"):\n",
    "        senti[temp[0]] =  int(temp[1])"
   ]
  },
  {
   "cell_type": "code",
   "execution_count": 8,
   "metadata": {},
   "outputs": [
    {
     "output_type": "stream",
     "name": "stdout",
     "text": [
      "['gme', 'stockmarket', 'options', 'investing', 'forex', 'stocks', 'robinhoodpennystocks', 'financialindependence', 'securityanalysis', 'robinhood', 'pennystocks', 'finance', 'wallstreetbets', 'personalfinance']\n"
     ]
    }
   ],
   "source": [
    "_, dirnames, filenames = next(walk(\"dataset/reddit-data-may-1\"))\n",
    "print(dirnames)"
   ]
  },
  {
   "cell_type": "code",
   "execution_count": 9,
   "metadata": {},
   "outputs": [],
   "source": [
    "#name = \"dataset/reddit-data-may-1/wallstreetbets/submissions_reddit.csv\""
   ]
  },
  {
   "cell_type": "code",
   "execution_count": 10,
   "metadata": {},
   "outputs": [
    {
     "output_type": "error",
     "ename": "NameError",
     "evalue": "name 'name' is not defined",
     "traceback": [
      "\u001b[0;31m---------------------------------------------------------------------------\u001b[0m",
      "\u001b[0;31mNameError\u001b[0m                                 Traceback (most recent call last)",
      "\u001b[0;32m<ipython-input-10-e79449eda13e>\u001b[0m in \u001b[0;36m<module>\u001b[0;34m\u001b[0m\n\u001b[0;32m----> 1\u001b[0;31m \u001b[0mf\u001b[0m \u001b[0;34m=\u001b[0m \u001b[0mopen\u001b[0m\u001b[0;34m(\u001b[0m\u001b[0mname\u001b[0m\u001b[0;34m,\u001b[0m\u001b[0;34m'r'\u001b[0m\u001b[0;34m)\u001b[0m\u001b[0;34m\u001b[0m\u001b[0;34m\u001b[0m\u001b[0m\n\u001b[0m\u001b[1;32m      2\u001b[0m \u001b[0mdata\u001b[0m \u001b[0;34m=\u001b[0m \u001b[0mf\u001b[0m\u001b[0;34m.\u001b[0m\u001b[0mread\u001b[0m\u001b[0;34m(\u001b[0m\u001b[0;34m)\u001b[0m\u001b[0;34m\u001b[0m\u001b[0;34m\u001b[0m\u001b[0m\n\u001b[1;32m      3\u001b[0m \u001b[0mdata\u001b[0m\u001b[0;34m.\u001b[0m\u001b[0mfind\u001b[0m\u001b[0;34m(\u001b[0m\u001b[0;34m'\\x00'\u001b[0m\u001b[0;34m)\u001b[0m\u001b[0;34m\u001b[0m\u001b[0;34m\u001b[0m\u001b[0m\n",
      "\u001b[0;31mNameError\u001b[0m: name 'name' is not defined"
     ]
    }
   ],
   "source": [
    "f = open(name,'r')\n",
    "data = f.read()\n",
    "data.find('\\x00')"
   ]
  },
  {
   "cell_type": "code",
   "execution_count": 11,
   "metadata": {},
   "outputs": [],
   "source": [
    "stocks = {\n",
    "    \"GME\":[\"gamestop\",\"gme\", \"game stop\",\"game stonk\"],\n",
    "    \"AMC\":[\"amc\"],\n",
    "    \"BB\":[\"blackberry\"],\n",
    "    \"MVIS\":[\"mvis\",\"microvision\",\"micromazing\"]\n",
    "}"
   ]
  },
  {
   "cell_type": "code",
   "execution_count": 22,
   "metadata": {},
   "outputs": [],
   "source": [
    "def process(subdir):\n",
    "    dist = {}\n",
    "    name = \"dataset/reddit-data-may-1/\"+subdir+\"/submissions_reddit.csv\"\n",
    "    with open(name, newline='') as csvfile:\n",
    "        csvreader = csv.DictReader(csvfile)\n",
    "        for row in csvreader:\n",
    "            month = [31,28,31,30,31,30,31,31,30,31,30,31]\n",
    "            ts = pd.Timestamp(row[\"created\"])\n",
    "            #print(ts)\n",
    "            #Sepreate by 4 am of a day\n",
    "            key = ts.month*100+ts.day\n",
    "            if ts.hour<4:\n",
    "                if ts.day!=1:\n",
    "                    key = key-1\n",
    "                else:\n",
    "                    mon = (ts.month-1)%12\n",
    "                    day = month[mon-1]\n",
    "                    if mon == 0:\n",
    "                        mon = 12\n",
    "                    key = mon*100+day\n",
    "            #print(key)\n",
    "            line = row[\"title\"]+\" \"+row[\"selftext\"]\n",
    "            dist[key] = dist.get(key, {})\n",
    "            mentions[key] = mentions.get(key,{})\n",
    "            for stock, value1 in stocks.items():\n",
    "                if mention(value1, line):\n",
    "                    mentions[key][stock] = mentions[key].get(stock, 0) + 1\n",
    "                    dist[key] = dist.get(key, {})\n",
    "                    dist[key][stock] = dist[key].get(stock, [])\n",
    "                    dist[key][stock].append(evaluate(row))\n",
    "\n",
    "                    #dist[key][fulltext] = dist[key].get(fulltext,[])\n",
    "                    #if check(row[\"selftext\"]): #check if the body of post exist\n",
    "                        #dist[key][fulltext].append(row[\"title\"]+\" \"+row[\"selftext\"])\n",
    "                        #fo.write(row[\"selftext\"])\n",
    "                    #else:\n",
    "                        #dist[key][fulltext].append(row[\"title\"])\n",
    "                    #fo.write(row[\"title\"])\n",
    "            \n",
    "            #print(key)\n",
    "    outfile = \"final_data/data/\"+subdir+\"_data.json\"\n",
    "    out = open(outfile,\"w\")        \n",
    "    json.dump(dist,  out,indent=2)\n",
    "\n",
    "    outfile = \"final_data/mention/\"+subdir+\"_mention.json\"\n",
    "    out = open(outfile,\"w\")        \n",
    "    json.dump(mentions, out,indent=4)"
   ]
  },
  {
   "cell_type": "code",
   "execution_count": 23,
   "metadata": {
    "tags": []
   },
   "outputs": [
    {
     "output_type": "stream",
     "name": "stdout",
     "text": [
      "process gme\n",
      "gme finish\n",
      "process stockmarket\n",
      "stockmarket finish\n",
      "process options\n",
      "options finish\n",
      "process investing\n",
      "investing finish\n",
      "process forex\n",
      "forex finish\n",
      "process stocks\n",
      "stocks finish\n",
      "process robinhoodpennystocks\n",
      "robinhoodpennystocks finish\n",
      "process financialindependence\n",
      "financialindependence finish\n",
      "process securityanalysis\n",
      "securityanalysis finish\n",
      "process robinhood\n",
      "robinhood finish\n",
      "process pennystocks\n",
      "pennystocks finish\n",
      "process finance\n",
      "finance finish\n",
      "process wallstreetbets\n",
      "wallstreetbets finish\n",
      "process personalfinance\n",
      "personalfinance finish\n"
     ]
    }
   ],
   "source": [
    "dist = {}\n",
    "fulltext = \"fulltext\"\n",
    "mentions = {}\n",
    "#fo = open(\"gme_text\",\"w\")\n",
    "for subdir in dirnames:\n",
    "    print(\"process \"+subdir )\n",
    "    process(subdir)\n",
    "    print(subdir +\" finish\")\n",
    "#print(dist)\n",
    "\n",
    "\n",
    "        \n"
   ]
  },
  {
   "cell_type": "code",
   "execution_count": 17,
   "metadata": {
    "tags": []
   },
   "outputs": [
    {
     "output_type": "stream",
     "name": "stdout",
     "text": [
      "1231\n"
     ]
    },
    {
     "output_type": "error",
     "ename": "NameError",
     "evalue": "name 'mentions' is not defined",
     "traceback": [
      "\u001b[0;31m---------------------------------------------------------------------------\u001b[0m",
      "\u001b[0;31mNameError\u001b[0m                                 Traceback (most recent call last)",
      "\u001b[0;32m<ipython-input-17-f41d51f56197>\u001b[0m in \u001b[0;36m<module>\u001b[0;34m\u001b[0m\n\u001b[0;32m----> 1\u001b[0;31m \u001b[0mprocess\u001b[0m\u001b[0;34m(\u001b[0m\u001b[0;34m\"robinhoodpennystocks\"\u001b[0m\u001b[0;34m)\u001b[0m\u001b[0;34m\u001b[0m\u001b[0;34m\u001b[0m\u001b[0m\n\u001b[0m",
      "\u001b[0;32m<ipython-input-16-9f539935ff56>\u001b[0m in \u001b[0;36mprocess\u001b[0;34m(subdir)\u001b[0m\n\u001b[1;32m     22\u001b[0m             \u001b[0mline\u001b[0m \u001b[0;34m=\u001b[0m \u001b[0mrow\u001b[0m\u001b[0;34m[\u001b[0m\u001b[0;34m\"title\"\u001b[0m\u001b[0;34m]\u001b[0m\u001b[0;34m+\u001b[0m\u001b[0;34m\" \"\u001b[0m\u001b[0;34m+\u001b[0m\u001b[0mrow\u001b[0m\u001b[0;34m[\u001b[0m\u001b[0;34m\"selftext\"\u001b[0m\u001b[0;34m]\u001b[0m\u001b[0;34m\u001b[0m\u001b[0;34m\u001b[0m\u001b[0m\n\u001b[1;32m     23\u001b[0m             \u001b[0mdist\u001b[0m\u001b[0;34m[\u001b[0m\u001b[0mkey\u001b[0m\u001b[0;34m]\u001b[0m \u001b[0;34m=\u001b[0m \u001b[0mdist\u001b[0m\u001b[0;34m.\u001b[0m\u001b[0mget\u001b[0m\u001b[0;34m(\u001b[0m\u001b[0mkey\u001b[0m\u001b[0;34m,\u001b[0m \u001b[0;34m{\u001b[0m\u001b[0;34m}\u001b[0m\u001b[0;34m)\u001b[0m\u001b[0;34m\u001b[0m\u001b[0;34m\u001b[0m\u001b[0m\n\u001b[0;32m---> 24\u001b[0;31m             \u001b[0mmentions\u001b[0m\u001b[0;34m[\u001b[0m\u001b[0mkey\u001b[0m\u001b[0;34m]\u001b[0m \u001b[0;34m=\u001b[0m \u001b[0mmentions\u001b[0m\u001b[0;34m.\u001b[0m\u001b[0mget\u001b[0m\u001b[0;34m(\u001b[0m\u001b[0mkey\u001b[0m\u001b[0;34m,\u001b[0m\u001b[0;34m{\u001b[0m\u001b[0;34m}\u001b[0m\u001b[0;34m)\u001b[0m\u001b[0;34m\u001b[0m\u001b[0;34m\u001b[0m\u001b[0m\n\u001b[0m\u001b[1;32m     25\u001b[0m             \u001b[0;32mfor\u001b[0m \u001b[0mstock\u001b[0m\u001b[0;34m,\u001b[0m \u001b[0mvalue1\u001b[0m \u001b[0;32min\u001b[0m \u001b[0mstocks\u001b[0m\u001b[0;34m.\u001b[0m\u001b[0mitems\u001b[0m\u001b[0;34m(\u001b[0m\u001b[0;34m)\u001b[0m\u001b[0;34m:\u001b[0m\u001b[0;34m\u001b[0m\u001b[0;34m\u001b[0m\u001b[0m\n\u001b[1;32m     26\u001b[0m                 \u001b[0;32mif\u001b[0m \u001b[0mmention\u001b[0m\u001b[0;34m(\u001b[0m\u001b[0mvalue1\u001b[0m\u001b[0;34m,\u001b[0m \u001b[0mline\u001b[0m\u001b[0;34m)\u001b[0m\u001b[0;34m:\u001b[0m\u001b[0;34m\u001b[0m\u001b[0;34m\u001b[0m\u001b[0m\n",
      "\u001b[0;31mNameError\u001b[0m: name 'mentions' is not defined"
     ]
    }
   ],
   "source": [
    "process(\"robinhoodpennystocks\")"
   ]
  },
  {
   "cell_type": "code",
   "execution_count": 101,
   "metadata": {
    "tags": []
   },
   "outputs": [],
   "source": [
    "'''\n",
    "\n",
    "mentions = {}\n",
    "for key, value in dist.items():\n",
    "    m = {}\n",
    "    for line in value[fulltext]:\n",
    "        for key1, value1 in stocks.items():\n",
    "            if mention(value1, line):\n",
    "                m[key1] = m.get(key1, 0)+1\n",
    "    dist[key][\"mention\"] = m\n",
    "    mentions[key] = m\n",
    "'''\n",
    "\n",
    "        \n"
   ]
  },
  {
   "cell_type": "code",
   "execution_count": 22,
   "metadata": {},
   "outputs": [],
   "source": []
  },
  {
   "cell_type": "code",
   "execution_count": 16,
   "metadata": {},
   "outputs": [],
   "source": []
  },
  {
   "cell_type": "code",
   "execution_count": 24,
   "metadata": {
    "tags": [
     "outputPrepend"
    ]
   },
   "outputs": [
    {
     "output_type": "stream",
     "name": "stdout",
     "text": [
      "     \"7\",        \"10\",        \"Loss\"\n      ],      [\n        1,        \"1.0\",        \"0\",        \"1\",        \"0\",        \"Loss\"\n      ],      [\n        0,        \"1.0\",        \"0\",        \"1\",        \"0\",        \"Discussion\"\n      ],      [\n        0,        \"1.0\",        \"0\",        \"1\",        \"2\",        \"Loss\"\n      ],      [\n        2,        \"1.0\",        \"0\",        \"1\",        \"1\",        \"YOLO\"\n      ],      [\n        2,        \"1.0\",        \"0\",        \"1\",        \"1\",        \"YOLO\"\n      ],      [\n        2,        \"1.0\",        \"0\",        \"1\",        \"1\",        \"Technical Analysis\"\n      ],      [\n        0,        \"1.0\",        \"0\",        \"1\",        \"2\",        \"Gain\"\n      ],      [\n        0,        \"1.0\",        \"0\",        \"1\",        \"0\",        \"Gain\"\n      ],      [\n        0,        \"0.61\",        \"1\",        \"6\",        \"16\",        \"Gain\"\n      ],      [\n        0,        \"0.78\",        \"0\",        \"5\",        \"14\",        \"Loss\"\n      ],      [\n        2,        \"0.75\",        \"0\",        \"6\",        \"54\",        \"Loss\"\n      ]\n    ],    \"BB\": [\n      [\n        2,        \"0.84\",        \"0\",        \"42\",        \"11\",        \"News\"\n      ],      [\n        2,        \"0.86\",        \"0\",        \"46\",        \"16\",        \"News\"\n      ]\n    ]\n  },  \"430\": {\n    \"GME\": [\n      [\n        0,        \"1.0\",        \"0\",        \"1\",        \"0\",        \"Discussion\"\n      ],      [\n        0,        \"1.0\",        \"0\",        \"1\",        \"0\",        \"Discussion\"\n      ],      [\n        1,        \"1.0\",        \"0\",        \"1\",        \"1\",        \"Meme\"\n      ],      [\n        0,        \"0.33\",        \"0\",        \"0\",        \"1\",        \"DD\"\n      ],      [\n        1,        \"0.33\",        \"0\",        \"0\",        \"1\",        \"Discussion\"\n      ],      [\n        0,        \"1.0\",        \"0\",        \"1\",        \"1\",        \"Discussion\"\n      ],      [\n        0,        \"1.0\",        \"0\",        \"1\",        \"0\",        \"YOLO\"\n      ],      [\n        0,        \"1.0\",        \"0\",        \"1\",        \"1\",        \"Meme\"\n      ],      [\n        0,        \"1.0\",        \"0\",        \"1\",        \"1\",        \"Meme\"\n      ],      [\n        0,        \"1.0\",        \"0\",        \"1\",        \"0\",        \"Discussion\"\n      ],      [\n        2,        \"1.0\",        \"0\",        \"1\",        \"1\",        \"News\"\n      ],      [\n        0,        \"1.0\",        \"0\",        \"1\",        \"0\",        \"Discussion\"\n      ],      [\n        0,        \"0.5\",        \"0\",        \"0\",        \"0\",        \"Discussion\"\n      ],      [\n        0,        \"1.0\",        \"0\",        \"1\",        \"0\",        \"Discussion\"\n      ],      [\n        0,        \"1.0\",        \"0\",        \"1\",        \"0\",        \"Gain\"\n      ],      [\n        0,        \"1.0\",        \"0\",        \"1\",        \"1\",        \"YOLO\"\n      ],      [\n        2,        \"1.0\",        \"0\",        \"2\",        \"2\",        \"YOLO\"\n      ],      [\n        0,        \"1.0\",        \"0\",        \"1\",        \"0\",        \"Discussion\"\n      ],      [\n        3,        \"1.0\",        \"0\",        \"1\",        \"0\",        \"Discussion\"\n      ],      [\n        12,        \"0.79\",        \"11\",        \"528\",        \"220\",        \"DD\"\n      ],      [\n        1,        \"1.0\",        \"0\",        \"1\",        \"1\",        \"YOLO\"\n      ],      [\n        0,        \"1.0\",        \"0\",        \"1\",        \"0\",        \"Discussion\"\n      ],      [\n        0,        \"1.0\",        \"0\",        \"2\",        \"0\",        \"Discussion\"\n      ],      [\n        -1,        \"1.0\",        \"0\",        \"1\",        \"1\",        \"Loss\"\n      ],      [\n        -1,        \"1.0\",        \"0\",        \"1\",        \"1\",        \"Loss\"\n      ],      [\n        -1,        \"1.0\",        \"0\",        \"1\",        \"1\",        \"Loss\"\n      ],      [\n        -1,        \"1.0\",        \"0\",        \"1\",        \"1\",        \"Loss\"\n      ],      [\n        2,        \"0.5\",        \"0\",        \"0\",        \"2\",        \"Technical Analysis\"\n      ],      [\n        11,        \"0.56\",        \"0\",        \"39\",        \"237\",        \"Discussion\"\n      ],      [\n        3,        \"1.0\",        \"0\",        \"1\",        \"0\",        \"Discussion\"\n      ],      [\n        0,        \"1.0\",        \"0\",        \"1\",        \"0\",        \"Technical Analysis\"\n      ],      [\n        0,        \"0.58\",        \"1\",        \"13\",        \"56\",        \"Discussion\"\n      ],      [\n        0,        \"0.9\",        \"0\",        \"8\",        \"4\",        \"Discussion\"\n      ],      [\n        0,        \"0.84\",        \"0\",        \"4\",        \"2\",        \"DD\"\n      ],      [\n        1,        \"1.0\",        \"0\",        \"2\",        \"1\",        \"Loss\"\n      ],      [\n        3,        \"1.0\",        \"0\",        \"2\",        \"1\",        \"Gain\"\n      ],      [\n        0,        \"0.5\",        \"0\",        \"0\",        \"0\",        \"Discussion\"\n      ],      [\n        2,        \"1.0\",        \"0\",        \"2\",        \"2\",        \"Gain\"\n      ],      [\n        2,        \"1.0\",        \"0\",        \"1\",        \"1\",        \"Meme\"\n      ],      [\n        2,        \"1.0\",        \"0\",        \"1\",        \"0\",        \"Discussion\"\n      ],      [\n        0,        \"1.0\",        \"0\",        \"1\",        \"0\",        \"Discussion\"\n      ],      [\n        0,        \"1.0\",        \"0\",        \"1\",        \"0\",        \"Technical Analysis\"\n      ],      [\n        0,        \"1.0\",        \"0\",        \"1\",        \"0\",        \"YOLO\"\n      ],      [\n        0,        \"1.0\",        \"0\",        \"1\",        \"0\",        \"Discussion\"\n      ],      [\n        1,        \"1.0\",        \"0\",        \"1\",        \"1\",        \"YOLO\"\n      ],      [\n        1,        \"1.0\",        \"0\",        \"1\",        \"1\",        \"Meme\"\n      ],      [\n        0,        \"0.87\",        \"0\",        \"11\",        \"9\",        \"Discussion\"\n      ],      [\n        0,        \"0.95\",        \"37\",        \"3807\",        \"284\",        \"YOLO\"\n      ],      [\n        4,        \"1.0\",        \"0\",        \"1\",        \"1\",        \"DD\"\n      ],      [\n        0,        \"0.5\",        \"0\",        \"0\",        \"0\",        \"Discussion\"\n      ],      [\n        0,        \"1.0\",        \"0\",        \"1\",        \"0\",        \"Loss\"\n      ],      [\n        0,        \"1.0\",        \"0\",        \"1\",        \"1\",        \"Meme\"\n      ],      [\n        0,        \"0.96\",        \"41\",        \"3598\",        \"335\",        \"YOLO\"\n      ],      [\n        1,        \"1.0\",        \"0\",        \"1\",        \"1\",        \"Meme\"\n      ],      [\n        1,        \"1.0\",        \"0\",        \"1\",        \"0\",        \"Discussion\"\n      ],      [\n        2,        \"0.7\",        \"0\",        \"7\",        \"8\",        \"Technical Analysis\"\n      ],      [\n        0,        \"1.0\",        \"0\",        \"1\",        \"1\",        \"Loss\"\n      ],      [\n        0,        \"1.0\",        \"0\",        \"1\",        \"0\",        \"Discussion\"\n      ],      [\n        6,        \"1.0\",        \"0\",        \"1\",        \"2\",        \"YOLO\"\n      ],      [\n        5,        \"1.0\",        \"0\",        \"1\",        \"1\",        \"Discussion\"\n      ],      [\n        5,        \"1.0\",        \"0\",        \"2\",        \"1\",        \"Discussion\"\n      ],      [\n        5,        \"1.0\",        \"0\",        \"1\",        \"0\",        \"Discussion\"\n      ],      [\n        0,        \"1.0\",        \"0\",        \"1\",        \"0\",        \"Discussion\"\n      ],      [\n        0,        \"1.0\",        \"0\",        \"1\",        \"0\",        \"Discussion\"\n      ],      [\n        0,        \"1.0\",        \"0\",        \"1\",        \"1\",        \"Loss\"\n      ],      [\n        0,        \"0.8\",        \"0\",        \"6\",        \"7\",        \"News\"\n      ],      [\n        0,        \"1.0\",        \"0\",        \"1\",        \"0\",        \"Discussion\"\n      ],      [\n        2,        \"1.0\",        \"0\",        \"2\",        \"5\",        \"YOLO\"\n      ],      [\n        2,        \"1.0\",        \"0\",        \"1\",        \"1\",        \"Meme\"\n      ],      [\n        2,        \"1.0\",        \"0\",        \"1\",        \"0\",        \"Discussion\"\n      ],      [\n        1,        \"1.0\",        \"0\",        \"1\",        \"0\",        \"Discussion\"\n      ],      [\n        2,        \"0.94\",        \"8\",        \"675\",        \"117\",        \"YOLO\"\n      ],      [\n        0,        \"0.33\",        \"0\",        \"0\",        \"20\",        \"Discussion\"\n      ],      [\n        0,        \"1.0\",        \"0\",        \"1\",        \"1\",        \"Meme\"\n      ],      [\n        0,        \"0.5\",        \"0\",        \"0\",        \"0\",        \"Discussion\"\n      ],      [\n        0,        \"1.0\",        \"0\",        \"1\",        \"1\",        \"YOLO\"\n      ]\n    ],    \"MVIS\": [\n      [\n        -1,        \"1.0\",        \"0\",        \"1\",        \"0\",        \"Discussion\"\n      ],      [\n        0,        \"1.0\",        \"0\",        \"1\",        \"0\",        \"Discussion\"\n      ],      [\n        0,        \"1.0\",        \"0\",        \"1\",        \"0\",        \"DD\"\n      ],      [\n        0,        \"1.0\",        \"0\",        \"1\",        \"1\",        \"YOLO\"\n      ],      [\n        0,        \"1.0\",        \"0\",        \"1\",        \"0\",        \"Discussion\"\n      ],      [\n        0,        \"1.0\",        \"0\",        \"1\",        \"0\",        \"Discussion\"\n      ],      [\n        0,        \"1.0\",        \"0\",        \"1\",        \"0\",        \"News\"\n      ],      [\n        1,        \"0.99\",        \"0\",        \"1\",        \"1\",        \"Loss\"\n      ],      [\n        3,        \"1.0\",        \"0\",        \"1\",        \"0\",        \"Discussion\"\n      ],      [\n        0,        \"1.0\",        \"0\",        \"1\",        \"1\",        \"DD\"\n      ],      [\n        4,        \"1.0\",        \"0\",        \"1\",        \"0\",        \"Discussion\"\n      ],      [\n        0,        \"1.0\",        \"0\",        \"1\",        \"0\",        \"Discussion\"\n      ],      [\n        -1,        \"1.0\",        \"0\",        \"1\",        \"0\",        \"Discussion\"\n      ],      [\n        0,        \"1.0\",        \"0\",        \"1\",        \"1\",        \"Meme\"\n      ],      [\n        0,        \"1.0\",        \"0\",        \"1\",        \"1\",        \"News\"\n      ],      [\n        0,        \"1.0\",        \"0\",        \"1\",        \"0\",        \"Discussion\"\n      ],      [\n        0,        \"1.0\",        \"0\",        \"1\",        \"0\",        \"Discussion\"\n      ],      [\n        2,        \"1.0\",        \"0\",        \"1\",        \"0\",        \"Discussion\"\n      ],      [\n        2,        \"1.0\",        \"0\",        \"1\",        \"1\",        \"Discussion\"\n      ],      [\n        0,        \"0.5\",        \"0\",        \"0\",        \"0\",        \"Discussion\"\n      ],      [\n        0,        \"1.0\",        \"0\",        \"1\",        \"1\",        \"Loss\"\n      ],      [\n        12,        \"0.79\",        \"11\",        \"528\",        \"220\",        \"DD\"\n      ],      [\n        1,        \"1.0\",        \"0\",        \"1\",        \"1\",        \"YOLO\"\n      ],      [\n        3,        \"1.0\",        \"0\",        \"1\",        \"0\",        \"Technical Analysis\"\n      ],      [\n        0,        \"1.0\",        \"0\",        \"2\",        \"0\",        \"Discussion\"\n      ],      [\n        1,        \"1.0\",        \"0\",        \"1\",        \"0\",        \"DD\"\n      ],      [\n        -1,        \"1.0\",        \"0\",        \"1\",        \"1\",        \"Loss\"\n      ],      [\n        -1,        \"1.0\",        \"0\",        \"1\",        \"1\",        \"Loss\"\n      ],      [\n        2,        \"1.0\",        \"0\",        \"1\",        \"4\",        \"News\"\n      ],      [\n        -1,        \"1.0\",        \"0\",        \"1\",        \"1\",        \"Loss\"\n      ],      [\n        0,        \"1.0\",        \"0\",        \"1\",        \"0\",        \"Discussion\"\n      ],      [\n        1,        \"1.0\",        \"0\",        \"1\",        \"1\",        \"YOLO\"\n      ],      [\n        0,        \"1.0\",        \"0\",        \"1\",        \"0\",        \"Discussion\"\n      ],      [\n        0,        \"1.0\",        \"0\",        \"1\",        \"0\",        \"Discussion\"\n      ],      [\n        -1,        \"1.0\",        \"0\",        \"1\",        \"1\",        \"Loss\"\n      ],      [\n        0,        \"1.0\",        \"0\",        \"1\",        \"1\",        \"Gain\"\n      ],      [\n        0,        \"1.0\",        \"0\",        \"2\",        \"0\",        \"Discussion\"\n      ],      [\n        -1,        \"1.0\",        \"0\",        \"1\",        \"1\",        \"Loss\"\n      ],      [\n        1,        \"1.0\",        \"0\",        \"1\",        \"0\",        \"Discussion\"\n      ],      [\n        0,        \"0.79\",        \"7\",        \"339\",        \"212\",        \"Loss\"\n      ],      [\n        5,        \"0.73\",        \"0\",        \"5\",        \"3\",        \"News\"\n      ],      [\n        0,        \"0.65\",        \"0\",        \"7\",        \"11\",        \"Discussion\"\n      ],      [\n        0,        \"1.0\",        \"0\",        \"1\",        \"2\",        \"Gain\"\n      ],      [\n        11,        \"0.56\",        \"0\",        \"39\",        \"237\",        \"Discussion\"\n      ],      [\n        0,        \"1.0\",        \"0\",        \"1\",        \"1\",        \"YOLO\"\n      ],      [\n        0,        \"0.76\",        \"0\",        \"11\",        \"15\",        \"Discussion\"\n      ],      [\n        0,        \"1.0\",        \"0\",        \"1\",        \"0\",        \"Technical Analysis\"\n      ],      [\n        0,        \"1.0\",        \"0\",        \"1\",        \"1\",        \"YOLO\"\n      ],      [\n        0,        \"1.0\",        \"0\",        \"1\",        \"0\",        \"Discussion\"\n      ],      [\n        0,        \"1.0\",        \"0\",        \"1\",        \"1\",        \"Gain\"\n      ],      [\n        2,        \"1.0\",        \"0\",        \"1\",        \"0\",        \"DD\"\n      ],      [\n        0,        \"1.0\",        \"0\",        \"1\",        \"0\",        \"Discussion\"\n      ],      [\n        0,        \"1.0\",        \"0\",        \"1\",        \"2\",        \"Gain\"\n      ],      [\n        -1,        \"1.0\",        \"0\",        \"1\",        \"0\",        \"Discussion\"\n      ],      [\n        -1,        \"0.8\",        \"0\",        \"3\",        \"2\",        \"Gain\"\n      ],      [\n        0,        \"1.0\",        \"0\",        \"1\",        \"1\",        \"YOLO\"\n      ],      [\n        0,        \"1.0\",        \"0\",        \"1\",        \"1\",        \"Meme\"\n      ],      [\n        1,        \"1.0\",        \"0\",        \"1\",        \"1\",        \"News\"\n      ],      [\n        0,        \"1.0\",        \"0\",        \"1\",        \"0\",        \"Discussion\"\n      ],      [\n        -1,        \"1.0\",        \"0\",        \"1\",        \"1\",        \"News\"\n      ],      [\n        0,        \"1.0\",        \"0\",        \"1\",        \"1\",        \"YOLO\"\n      ],      [\n        0,        \"1.0\",        \"0\",        \"1\",        \"0\",        \"Discussion\"\n      ],      [\n        0,        \"1.0\",        \"0\",        \"1\",        \"2\",        \"News\"\n      ],      [\n        0,        \"1.0\",        \"0\",        \"1\",        \"2\",        \"Loss\"\n      ],      [\n        0,        \"1.0\",        \"0\",        \"1\",        \"1\",        \"Loss\"\n      ],      [\n        0,        \"1.0\",        \"0\",        \"1\",        \"0\",        \"Discussion\"\n      ],      [\n        0,        \"1.0\",        \"0\",        \"1\",        \"1\",        \"YOLO\"\n      ],      [\n        1,        \"0.84\",        \"2\",        \"371\",        \"210\",        \"Gain\"\n      ],      [\n        0,        \"1.0\",        \"0\",        \"1\",        \"2\",        \"Loss\"\n      ],      [\n        -1,        \"1.0\",        \"0\",        \"1\",        \"0\",        \"Discussion\"\n      ],      [\n        0,        \"1.0\",        \"0\",        \"1\",        \"1\",        \"Discussion\"\n      ],      [\n        1,        \"0.84\",        \"0\",        \"4\",        \"0\",        \"Discussion\"\n      ],      [\n        0,        \"1.0\",        \"0\",        \"1\",        \"2\",        \"Loss\"\n      ],      [\n        2,        \"1.0\",        \"0\",        \"1\",        \"0\",        \"Discussion\"\n      ],      [\n        0,        \"1.0\",        \"0\",        \"1\",        \"1\",        \"YOLO\"\n      ],      [\n        2,        \"1.0\",        \"0\",        \"1\",        \"4\",        \"Gain\"\n      ],      [\n        -1,        \"0.74\",        \"0\",        \"82\",        \"154\",        \"Discussion\"\n      ],      [\n        0,        \"1.0\",        \"0\",        \"1\",        \"0\",        \"Discussion\"\n      ],      [\n        1,        \"0.73\",        \"0\",        \"22\",        \"107\",        \"Discussion\"\n      ],      [\n        0,        \"1.0\",        \"0\",        \"1\",        \"0\",        \"Discussion\"\n      ],      [\n        0,        \"0.5\",        \"0\",        \"0\",        \"1\",        \"Discussion\"\n      ],      [\n        0,        \"1.0\",        \"0\",        \"1\",        \"1\",        \"Loss\"\n      ],      [\n        0,        \"1.0\",        \"0\",        \"1\",        \"0\",        \"Meme\"\n      ],      [\n        0,        \"1.0\",        \"0\",        \"1\",        \"0\",        \"YOLO\"\n      ],      [\n        0,        \"1.0\",        \"0\",        \"1\",        \"0\",        \"Discussion\"\n      ],      [\n        2,        \"1.0\",        \"0\",        \"1\",        \"1\",        \"Gain\"\n      ],      [\n        2,        \"1.0\",        \"0\",        \"1\",        \"0\",        \"Discussion\"\n      ],      [\n        0,        \"0.84\",        \"0\",        \"4\",        \"3\",        \"Meme\"\n      ],      [\n        0,        \"1.0\",        \"0\",        \"1\",        \"0\",        \"Loss\"\n      ],      [\n        3,        \"0.8\",        \"0\",        \"6\",        \"13\",        \"Gain\"\n      ]\n    ],    \"AMC\": [\n      [\n        0,        \"1.0\",        \"0\",        \"1\",        \"0\",        \"News\"\n      ],      [\n        1,        \"1.0\",        \"0\",        \"1\",        \"0\",        \"Discussion\"\n      ],      [\n        1,        \"1.0\",        \"0\",        \"2\",        \"0\",        \"Meme\"\n      ],      [\n        2,        \"1.0\",        \"0\",        \"1\",        \"1\",        \"DD\"\n      ],      [\n        0,        \"1.0\",        \"0\",        \"1\",        \"1\",        \"Meme\"\n      ],      [\n        12,        \"0.79\",        \"11\",        \"528\",        \"220\",        \"DD\"\n      ],      [\n        4,        \"1.0\",        \"0\",        \"1\",        \"0\",        \"Meme\"\n      ],      [\n        1,        \"1.0\",        \"0\",        \"1\",        \"1\",        \"YOLO\"\n      ],      [\n        0,        \"1.0\",        \"0\",        \"1\",        \"0\",        \"Discussion\"\n      ],      [\n        1,        \"1.0\",        \"0\",        \"2\",        \"1\",        \"Gain\"\n      ],      [\n        1,        \"1.0\",        \"0\",        \"1\",        \"1\",        \"Discussion\"\n      ],      [\n        0,        \"1.0\",        \"0\",        \"2\",        \"1\",        \"YOLO\"\n      ],      [\n        2,        \"1.0\",        \"0\",        \"1\",        \"0\",        \"Meme\"\n      ],      [\n        0,        \"1.0\",        \"0\",        \"1\",        \"0\",        \"Discussion\"\n      ],      [\n        0,        \"1.0\",        \"0\",        \"1\",        \"0\",        \"YOLO\"\n      ],      [\n        0,        \"1.0\",        \"0\",        \"1\",        \"0\",        \"Discussion\"\n      ],      [\n        4,        \"1.0\",        \"0\",        \"1\",        \"0\",        \"Meme\"\n      ],      [\n        0,        \"1.0\",        \"0\",        \"1\",        \"0\",        \"Discussion\"\n      ],      [\n        0,        \"1.0\",        \"0\",        \"1\",        \"0\",        \"Discussion\"\n      ],      [\n        0,        \"1.0\",        \"0\",        \"1\",        \"1\",        \"Loss\"\n      ],      [\n        0,        \"1.0\",        \"0\",        \"2\",        \"0\",        \"Discussion\"\n      ],      [\n        0,        \"1.0\",        \"0\",        \"1\",        \"0\",        \"Discussion\"\n      ],      [\n        0,        \"1.0\",        \"0\",        \"3\",        \"0\",        \"Discussion\"\n      ],      [\n        0,        \"1.0\",        \"0\",        \"1\",        \"0\",        \"Discussion\"\n      ],      [\n        0,        \"1.0\",        \"0\",        \"1\",        \"0\",        \"Discussion\"\n      ],      [\n        0,        \"1.0\",        \"0\",        \"5\",        \"2\",        \"YOLO\"\n      ],      [\n        0,        \"0.25\",        \"0\",        \"0\",        \"2\",        \"Discussion\"\n      ],      [\n        1,        \"1.0\",        \"0\",        \"1\",        \"1\",        \"Meme\"\n      ],      [\n        0,        \"1.0\",        \"0\",        \"1\",        \"0\",        \"Discussion\"\n      ],      [\n        2,        \"1.0\",        \"0\",        \"1\",        \"2\",        \"YOLO\"\n      ],      [\n        2,        \"1.0\",        \"0\",        \"13\",        \"4\",        \"News\"\n      ],      [\n        0,        \"1.0\"\n"
     ]
    }
   ],
   "source": []
  },
  {
   "cell_type": "code",
   "execution_count": null,
   "metadata": {},
   "outputs": [],
   "source": []
  }
 ]
}