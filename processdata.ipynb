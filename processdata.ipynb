{
 "metadata": {
  "language_info": {
   "codemirror_mode": {
    "name": "ipython",
    "version": 3
   },
   "file_extension": ".py",
   "mimetype": "text/x-python",
   "name": "python",
   "nbconvert_exporter": "python",
   "pygments_lexer": "ipython3",
   "version": "3.8.5"
  },
  "orig_nbformat": 2,
  "kernelspec": {
   "name": "python385jvsc74a57bd00a54ae906de979a9941d3f7ef7d6997161b57a1f258a6fbdcfbb8e5b72492757",
   "display_name": "Python 3.8.5 64-bit ('base': conda)"
  }
 },
 "nbformat": 4,
 "nbformat_minor": 2,
 "cells": [
  {
   "cell_type": "code",
   "execution_count": null,
   "metadata": {},
   "outputs": [],
   "source": [
    "import json\n",
    "from os import walk\n",
    "import collections"
   ]
  },
  {
   "cell_type": "code",
   "execution_count": null,
   "metadata": {},
   "outputs": [],
   "source": [
    "\n",
    "_, dirnames, data_filenames = next(walk(\"final_data/data/\"))\n",
    "print(data_filenames)"
   ]
  },
  {
   "cell_type": "code",
   "execution_count": null,
   "metadata": {},
   "outputs": [],
   "source": []
  },
  {
   "cell_type": "code",
   "execution_count": null,
   "metadata": {},
   "outputs": [],
   "source": [
    "def processData(filename):\n",
    "    name = \"final_data/data/\"+filename\n",
    "    file = json.load(open(name))\n",
    "    for date, value in file.items():\n",
    "        for stock, reddits in value.items():\n",
    "            print (stock)\n",
    "            #print(\"sentiment, upvote_ratio, total_awards_received, score, num_comments, link_flair_text\")\n",
    "            for post in reddits:\n",
    "                #print(post)"
   ]
  },
  {
   "cell_type": "code",
   "execution_count": null,
   "metadata": {},
   "outputs": [],
   "source": [
    "def statisticFeature(filename, feature): #feature from 0-5\n",
    "    name = \"final_data/data/\"+filename\n",
    "    features = [\"sentiment\", \"upvote_ratio\", \"total_awards_received\", \"score\", \"num_comments\", \"link_flair_text\"]\n",
    "    print(\"statistic with feature \"+features[feature])\n",
    "    f = {}\n",
    "    file = json.load(open(name))\n",
    "    for date, value in file.items():\n",
    "        for stock, reddits in value.items():\n",
    "            #print(\"sentiment, upvote_ratio, total_awards_received, score, num_comments, link_flair_text\")\n",
    "            for post in reddits:\n",
    "                f[post[feature]] = f.get(post[feature],0)+1\n",
    "    #Sort by value\n",
    "    f = collections.OrderedDict(sorted(f.items(), key=lambda item: item[1], reverse = True))\n",
    "    for key, value in f.items():\n",
    "        print(key+\":\"+str(value))"
   ]
  },
  {
   "cell_type": "code",
   "execution_count": null,
   "metadata": {},
   "outputs": [],
   "source": [
    "#eg\n",
    "statisticFeature(\"personalfinance_data.json\", 5) #find all flair of personal finance_data"
   ]
  },
  {
   "cell_type": "code",
   "execution_count": null,
   "metadata": {},
   "outputs": [],
   "source": [
    "#eg\n",
    "processData(\"personalfinance_data.json\")"
   ]
  },
  {
   "cell_type": "code",
   "execution_count": null,
   "metadata": {
    "tags": [
     "outputPrepend"
    ]
   },
   "outputs": [],
   "source": [
    "#eg for process all data in data\n",
    "for file in data_filenames:\n",
    "    processData(file)\n"
   ]
  },
  {
   "cell_type": "code",
   "execution_count": null,
   "metadata": {},
   "outputs": [],
   "source": []
  },
  {
   "cell_type": "code",
   "execution_count": null,
   "metadata": {},
   "outputs": [],
   "source": []
  }
 ]
}